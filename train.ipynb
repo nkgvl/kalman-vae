{
 "cells": [
  {
   "cell_type": "code",
   "execution_count": 1,
   "id": "61aa54ee-4dd2-4b11-8117-254c8dfc0d0a",
   "metadata": {
    "tags": []
   },
   "outputs": [],
   "source": [
    "import glob\n",
    "import json\n",
    "import os\n",
    "\n",
    "import matplotlib.pyplot as plt\n",
    "import numpy as np\n",
    "import torch\n",
    "import torch.optim.lr_scheduler as lr_scheduler\n",
    "from bouncing_ball.dataloaders.bouncing_data import BouncingBallDataLoader\n",
    "from kalman_vae import KalmanVariationalAutoencoder\n",
    "from natsort import natsorted\n",
    "from torch.utils.data import DataLoader\n",
    "from tqdm import tqdm"
   ]
  },
  {
   "cell_type": "code",
   "execution_count": 2,
   "id": "de4a8694-c7ba-4a7b-83ae-0fd3fdc3df70",
   "metadata": {
    "tags": []
   },
   "outputs": [],
   "source": [
    "warmup_epochs = 5\n",
    "burn_in = 5\n",
    "checkpoint_dir = f\"checkpoints/bouncing_ball_double_warmup-{warmup_epochs}_burnin-{burn_in}\"\n",
    "device = torch.device(\"cpu\")\n",
    "symmetrize_covariance = True\n",
    "dtype = torch.float32"
   ]
  },
  {
   "cell_type": "code",
   "execution_count": 3,
   "id": "b8f8daea-0b5a-4ccc-aaf1-aa91851bd66f",
   "metadata": {
    "tags": []
   },
   "outputs": [],
   "source": [
    "os.makedirs(checkpoint_dir, exist_ok=True)"
   ]
  },
  {
   "cell_type": "code",
   "execution_count": 4,
   "id": "483f0605",
   "metadata": {
    "tags": []
   },
   "outputs": [],
   "source": [
    "# fix random seeds for reproducibility\n",
    "torch.manual_seed(0)\n",
    "torch.backends.cudnn.deterministic = True\n",
    "torch.backends.cudnn.benchmark = False"
   ]
  },
  {
   "cell_type": "code",
   "execution_count": 5,
   "id": "0e5a5f53-5a05-41d9-b4c1-8978b7daa6e7",
   "metadata": {
    "tags": []
   },
   "outputs": [],
   "source": [
    "_dataloader_train = BouncingBallDataLoader(\n",
    "    root_dir=\"bouncing_ball/datasets/bouncing-ball/train\"\n",
    ")\n",
    "_dataloader_test = BouncingBallDataLoader(\n",
    "    root_dir=\"bouncing_ball/datasets/bouncing-ball/test\"\n",
    ")"
   ]
  },
  {
   "cell_type": "code",
   "execution_count": 6,
   "id": "a2fb1320-a03c-4038-bb10-2421402e5189",
   "metadata": {
    "tags": []
   },
   "outputs": [],
   "source": [
    "def sequence_first_collate_fn(batch):\n",
    "    data = torch.Tensor(np.stack(batch, axis=0))\n",
    "    # data.shape: [batch size, sequence length, channels, height, width]\n",
    "    # Reshape to [sequence length, batch size, channels, height, width]\n",
    "    data = data.permute(1, 0, 2, 3, 4)\n",
    "    return data"
   ]
  },
  {
   "cell_type": "code",
   "execution_count": 7,
   "id": "a1b155c4-419a-4057-a178-87125d4254dd",
   "metadata": {
    "tags": []
   },
   "outputs": [],
   "source": [
    "dataloader_train = DataLoader(\n",
    "    _dataloader_train,\n",
    "    batch_size=128,\n",
    "    shuffle=True,\n",
    "    collate_fn=sequence_first_collate_fn,\n",
    ")\n",
    "dataloader_test = DataLoader(\n",
    "    _dataloader_test, batch_size=128, shuffle=True, collate_fn=sequence_first_collate_fn\n",
    ")"
   ]
  },
  {
   "cell_type": "code",
   "execution_count": 8,
   "id": "5bb0006e",
   "metadata": {
    "tags": []
   },
   "outputs": [
    {
     "name": "stdout",
     "output_type": "stream",
     "text": [
      "torch.Size([50, 128, 1, 16, 16])\n"
     ]
    }
   ],
   "source": [
    "for i, data in enumerate(dataloader_train):\n",
    "    print(data.shape)\n",
    "    # To Float32\n",
    "    data = (data > 0.5).float()\n",
    "    break"
   ]
  },
  {
   "cell_type": "code",
   "execution_count": 9,
   "id": "c0ab50ae",
   "metadata": {
    "tags": []
   },
   "outputs": [],
   "source": [
    "kvae = (\n",
    "    KalmanVariationalAutoencoder(\n",
    "        image_size=data.shape[3:],\n",
    "        image_channels=data.shape[2],\n",
    "        a_dim=2,\n",
    "        z_dim=4,\n",
    "        K=3,\n",
    "        decoder_type=\"bernoulli\",\n",
    "    )\n",
    "    .to(dtype=dtype)\n",
    "    .to(device)\n",
    ")"
   ]
  },
  {
   "cell_type": "code",
   "execution_count": 10,
   "id": "237ff1e2",
   "metadata": {
    "tags": []
   },
   "outputs": [],
   "source": [
    "optimizer = torch.optim.Adam(kvae.parameters(), lr=7e-3)\n",
    "scheduler = lr_scheduler.ExponentialLR(optimizer, 0.85)"
   ]
  },
  {
   "cell_type": "code",
   "execution_count": 11,
   "id": "b3d3ef58",
   "metadata": {
    "tags": []
   },
   "outputs": [],
   "source": [
    "def find_latest_checkpoint_index(pattern):\n",
    "    files = glob.glob(pattern)\n",
    "    if files:\n",
    "        return int(\n",
    "            max(files, key=lambda x: int(x.split(\"-\")[-1].split(\".\")[0]))\n",
    "            .split(\"-\")[-1]\n",
    "            .split(\".\")[0]\n",
    "        )\n",
    "    return None\n",
    "\n",
    "\n",
    "latest_index = find_latest_checkpoint_index(os.path.join(checkpoint_dir, \"state-*.pth\"))\n",
    "\n",
    "if latest_index is not None:\n",
    "    checkpoint = torch.load(os.path.join(checkpoint_dir, f\"state-{latest_index}.pth\"))\n",
    "    kvae.load_state_dict(checkpoint[\"model_state_dict\"], strict=False)\n",
    "    optimizer.load_state_dict(checkpoint[\"optimizer_state_dict\"])\n",
    "    epoch_start = checkpoint[\"epoch\"] + 1\n",
    "    print(\"Loaded checkpoint at epoch {}\".format(latest_index))\n",
    "else:\n",
    "    epoch_start = 0"
   ]
  },
  {
   "cell_type": "code",
   "execution_count": 12,
   "id": "c3fb4435",
   "metadata": {
    "tags": []
   },
   "outputs": [
    {
     "name": "stderr",
     "output_type": "stream",
     "text": [
      "Test Epoch 32, Batch 5/8, Loss -43054.32322027889:  32%|▎| 32/100 [47:30<1:40:58\n",
      "\n",
      "KeyboardInterrupt\n",
      "\n"
     ]
    }
   ],
   "source": [
    "p = tqdm(range(epoch_start, 100))\n",
    "for epoch in p:\n",
    "    kvae.train()\n",
    "    learn_weight_model = epoch >= warmup_epochs\n",
    "    losses = []\n",
    "    for i, data in enumerate(dataloader_train):\n",
    "        data = (data > 0.5).to(dtype=dtype).to(device)\n",
    "        optimizer.zero_grad()\n",
    "        elbo, info = kvae.elbo(\n",
    "            data,\n",
    "            learn_weight_model=learn_weight_model,\n",
    "            symmetrize_covariance=symmetrize_covariance,\n",
    "            burn_in=burn_in,\n",
    "        )\n",
    "        loss = -elbo\n",
    "        loss.backward()\n",
    "        optimizer.step()\n",
    "        losses.append(loss.item())\n",
    "        p.set_description(\n",
    "            f\"Train Epoch {epoch}, Batch {i}/{len(dataloader_train)}, Loss {loss.item()}\"\n",
    "        )\n",
    "    train_loss = sum(losses) / len(losses)\n",
    "\n",
    "    # Test\n",
    "    kvae.eval()\n",
    "    losses = []\n",
    "    for i, data in enumerate(dataloader_test):\n",
    "        data = (data > 0.5).to(dtype=dtype).to(device)\n",
    "        elbo, info = kvae.elbo(data, symmetrize_covariance=symmetrize_covariance)\n",
    "        loss = -elbo\n",
    "        losses.append(loss.item())\n",
    "        p.set_description(\n",
    "            f\"Test Epoch {epoch}, Batch {i}/{len(dataloader_test)}, Loss {loss.item()}\"\n",
    "        )\n",
    "\n",
    "    test_loss = sum(losses) / len(losses)\n",
    "\n",
    "    if (epoch > 0) & (epoch % 20 == 0):\n",
    "        scheduler.step()\n",
    "\n",
    "    # Save\n",
    "    torch.save(\n",
    "        {\n",
    "            \"epoch\": epoch,\n",
    "            \"model_state_dict\": kvae.state_dict(),\n",
    "            \"optimizer_state_dict\": optimizer.state_dict(),\n",
    "            \"scheduler_state_dict\": scheduler.state_dict(),\n",
    "            \"train_loss\": train_loss,\n",
    "            \"test_loss\": test_loss,\n",
    "        },\n",
    "        os.path.join(checkpoint_dir, f\"state-{epoch}.pth\"),\n",
    "    )"
   ]
  }
 ],
 "metadata": {
  "kernelspec": {
   "display_name": "Python [conda env:kalman-vae]",
   "language": "python",
   "name": "conda-env-kalman-vae-py"
  },
  "language_info": {
   "codemirror_mode": {
    "name": "ipython",
    "version": 3
   },
   "file_extension": ".py",
   "mimetype": "text/x-python",
   "name": "python",
   "nbconvert_exporter": "python",
   "pygments_lexer": "ipython3",
   "version": "3.8.17"
  }
 },
 "nbformat": 4,
 "nbformat_minor": 5
}
