{
 "cells": [
  {
   "cell_type": "code",
   "execution_count": 1,
   "id": "61aa54ee-4dd2-4b11-8117-254c8dfc0d0a",
   "metadata": {
    "tags": []
   },
   "outputs": [],
   "source": [
    "import os\n",
    "import json\n",
    "import glob\n",
    "\n",
    "from natsort import natsorted\n",
    "import matplotlib.pyplot as plt\n",
    "import torch\n",
    "from torch.utils.data import DataLoader\n",
    "from tqdm import tqdm\n",
    "from kalman_vae import KalmanVariationalAutoencoder\n",
    "from bouncing_ball.dataloaders.bouncing_data import BouncingBallDataLoader"
   ]
  },
  {
   "cell_type": "code",
   "execution_count": 2,
   "id": "483f0605",
   "metadata": {
    "tags": []
   },
   "outputs": [],
   "source": [
    "# fix random seeds for reproducibility\n",
    "torch.manual_seed(0)\n",
    "torch.backends.cudnn.deterministic = True\n",
    "torch.backends.cudnn.benchmark = False"
   ]
  },
  {
   "cell_type": "code",
   "execution_count": 3,
   "id": "0e5a5f53-5a05-41d9-b4c1-8978b7daa6e7",
   "metadata": {
    "tags": []
   },
   "outputs": [],
   "source": [
    "dataloader_train = BouncingBallDataLoader(root_dir='bouncing_ball/datasets/bouncing-ball/train')\n",
    "dataloader_test = BouncingBallDataLoader(root_dir='bouncing_ball/datasets/bouncing-ball/test')"
   ]
  },
  {
   "cell_type": "code",
   "execution_count": 4,
   "id": "a1b155c4-419a-4057-a178-87125d4254dd",
   "metadata": {
    "tags": []
   },
   "outputs": [],
   "source": [
    "dataloader_train = DataLoader(dataloader_train, batch_size=64, shuffle=True)\n",
    "dataloader_test = DataLoader(dataloader_test, batch_size=64, shuffle=True)"
   ]
  },
  {
   "cell_type": "code",
   "execution_count": 5,
   "id": "5bb0006e",
   "metadata": {
    "tags": []
   },
   "outputs": [
    {
     "name": "stdout",
     "output_type": "stream",
     "text": [
      "torch.Size([64, 50, 1, 16, 16])\n"
     ]
    }
   ],
   "source": [
    "for i, data in enumerate(dataloader_train):\n",
    "    print(data.shape)\n",
    "    # To Float32\n",
    "    data = (data > 0.5).float()\n",
    "    break"
   ]
  },
  {
   "cell_type": "code",
   "execution_count": 6,
   "id": "c0ab50ae",
   "metadata": {
    "tags": []
   },
   "outputs": [],
   "source": [
    "kvae = KalmanVariationalAutoencoder(image_size = data.shape[3:], image_channels=data.shape[2], a_dim=2, z_dim=4, K=3, decoder_type='bernoulli')"
   ]
  },
  {
   "cell_type": "code",
   "execution_count": 7,
   "id": "237ff1e2",
   "metadata": {
    "tags": []
   },
   "outputs": [],
   "source": [
    "optimizer = torch.optim.Adam(kvae.parameters(), lr=1e-3)"
   ]
  },
  {
   "cell_type": "code",
   "execution_count": 8,
   "id": "b3d3ef58",
   "metadata": {
    "tags": []
   },
   "outputs": [],
   "source": [
    "def find_latest_checkpoint_index(pattern):\n",
    "    files = glob.glob(pattern)\n",
    "    if files:\n",
    "        return int(max(files, key=lambda x: int(x.split('-')[-1].split('.')[0])).split('-')[-1].split('.')[0])\n",
    "    return None\n",
    "\n",
    "latest_index = find_latest_checkpoint_index('checkpoints/bouncing_ball/state-*.pth')\n",
    "\n",
    "if latest_index is not None:\n",
    "    checkpoint = torch.load('checkpoints/bouncing_ball/state-{}.pth'.format(latest_index))\n",
    "    kvae.load_state_dict(checkpoint['model_state_dict'])\n",
    "    optimizer.load_state_dict(checkpoint['optimizer_state_dict'])\n",
    "    epoch_start = checkpoint['epoch'] + 1\n",
    "    print('Loaded checkpoint at epoch {}'.format(latest_index))\n",
    "else:\n",
    "    epoch_start = 0"
   ]
  },
  {
   "cell_type": "code",
   "execution_count": null,
   "id": "c3fb4435",
   "metadata": {
    "tags": []
   },
   "outputs": [
    {
     "name": "stderr",
     "output_type": "stream",
     "text": [
      "Train Epoch 9, Batch 30/79, Loss 51532.46875:  18%|▏| 9/50 [15:48<1:06:19, 97.06"
     ]
    }
   ],
   "source": [
    "p = tqdm(range(epoch_start, 50))\n",
    "for epoch in p:\n",
    "    kvae.train()\n",
    "    losses = []\n",
    "    for i, data in enumerate(dataloader_train):\n",
    "        data = (data > 0.5).float()\n",
    "        optimizer.zero_grad()\n",
    "        elbo, info = kvae.elbo(data)\n",
    "        loss = -elbo\n",
    "        loss.backward()\n",
    "        optimizer.step()\n",
    "        losses.append(loss.item())\n",
    "        p.set_description(f'Train Epoch {epoch}, Batch {i}/{len(dataloader_train)}, Loss {loss.item()}')\n",
    "    train_loss = sum(losses) / len(losses)\n",
    "\n",
    "    # Test\n",
    "    kvae.eval()\n",
    "    losses = []\n",
    "    for i, data in enumerate(dataloader_test):\n",
    "        data = (data > 0.5).float()\n",
    "        elbo, info = kvae.elbo(data)\n",
    "        loss = -elbo\n",
    "        losses.append(loss.item())\n",
    "        p.set_description(f'Test Epoch {epoch}, Batch {i}/{len(dataloader_test)}, Loss {loss.item()}')\n",
    "\n",
    "    test_loss = sum(losses) / len(losses)\n",
    "\n",
    "    # Save\n",
    "    torch.save({\n",
    "        'epoch': epoch,\n",
    "        'model_state_dict': kvae.state_dict(),\n",
    "        'optimizer_state_dict': optimizer.state_dict(),\n",
    "        'train_loss': train_loss,\n",
    "        'test_loss': test_loss\n",
    "    }, f'checkpoints/bouncing_ball/state-{epoch}.pth')"
   ]
  },
  {
   "cell_type": "code",
   "execution_count": null,
   "id": "43007530-24a4-4d84-b0ea-2e19a4fd4c99",
   "metadata": {},
   "outputs": [],
   "source": [
    "train_losses = []\n",
    "test_losses = []\n",
    "\n",
    "for file in natsorted(glob.glob('checkpoints/bouncing_ball/state-*.pth')):\n",
    "    checkpoint = torch.load(file)\n",
    "    train_losses.append(checkpoint['train_loss'])\n",
    "    test_losses.append(checkpoint['test_loss'])\n",
    "    "
   ]
  }
 ],
 "metadata": {
  "kernelspec": {
   "display_name": "Python [conda env:kalman-vae]",
   "language": "python",
   "name": "conda-env-kalman-vae-py"
  },
  "language_info": {
   "codemirror_mode": {
    "name": "ipython",
    "version": 3
   },
   "file_extension": ".py",
   "mimetype": "text/x-python",
   "name": "python",
   "nbconvert_exporter": "python",
   "pygments_lexer": "ipython3",
   "version": "3.8.17"
  }
 },
 "nbformat": 4,
 "nbformat_minor": 5
}
