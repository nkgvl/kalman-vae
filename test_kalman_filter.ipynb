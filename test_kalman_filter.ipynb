{
 "cells": [
  {
   "cell_type": "code",
   "execution_count": null,
   "id": "28bab3f4",
   "metadata": {},
   "outputs": [],
   "source": [
    "import torch\n",
    "from ssm import StateSpaceModel"
   ]
  },
  {
   "cell_type": "code",
   "execution_count": null,
   "id": "d514fa56-6048-44b8-817b-753abf6393d0",
   "metadata": {},
   "outputs": [],
   "source": [
    "ssm = StateSpaceModel(2, 2, 3)\n",
    "as_ = torch.randn(8, 16, 2)"
   ]
  },
  {
   "cell_type": "code",
   "execution_count": null,
   "id": "e8e3e640-e427-4fa9-891a-e358b35c3c82",
   "metadata": {},
   "outputs": [],
   "source": [
    "filter_means, filter_covariances, filter_next_means, filter_next_covariances, mat_As, mat_Cs = ssm.kalman_filter(as_)\n",
    "means, covariances = ssm.kalman_smooth(as_, filter_means, filter_covariances, filter_next_means, filter_next_covariances, mat_As, mat_Cs)"
   ]
  }
 ],
 "metadata": {
  "kernelspec": {
   "display_name": "Python 3 (ipykernel)",
   "language": "python",
   "name": "python3"
  },
  "language_info": {
   "codemirror_mode": {
    "name": "ipython",
    "version": 3
   },
   "file_extension": ".py",
   "mimetype": "text/x-python",
   "name": "python",
   "nbconvert_exporter": "python",
   "pygments_lexer": "ipython3",
   "version": "3.10.13"
  }
 },
 "nbformat": 4,
 "nbformat_minor": 5
}
