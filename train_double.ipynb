{
 "cells": [
  {
   "cell_type": "code",
   "execution_count": 1,
   "id": "61aa54ee-4dd2-4b11-8117-254c8dfc0d0a",
   "metadata": {
    "tags": []
   },
   "outputs": [],
   "source": [
    "import glob\n",
    "import json\n",
    "import os\n",
    "\n",
    "import matplotlib.pyplot as plt\n",
    "import numpy as np\n",
    "import torch\n",
    "import torch.optim.lr_scheduler as lr_scheduler\n",
    "from bouncing_ball.dataloaders.bouncing_data import BouncingBallDataLoader\n",
    "from kalman_vae import KalmanVariationalAutoencoder\n",
    "from natsort import natsorted\n",
    "from torch.utils.data import DataLoader\n",
    "from tqdm import tqdm"
   ]
  },
  {
   "cell_type": "code",
   "execution_count": 2,
   "id": "de4a8694-c7ba-4a7b-83ae-0fd3fdc3df70",
   "metadata": {
    "tags": []
   },
   "outputs": [],
   "source": [
    "checkpoint_dir = \"checkpoints/bouncing_ball_double\"\n",
    "warmup_epochs = 3\n",
    "device = torch.device(\"cuda:2\")\n",
    "symmetrize_covariance = True\n",
    "dtype = torch.float64"
   ]
  },
  {
   "cell_type": "code",
   "execution_count": 3,
   "id": "b8f8daea-0b5a-4ccc-aaf1-aa91851bd66f",
   "metadata": {
    "tags": []
   },
   "outputs": [],
   "source": [
    "os.makedirs(checkpoint_dir, exist_ok=True)"
   ]
  },
  {
   "cell_type": "code",
   "execution_count": 4,
   "id": "483f0605",
   "metadata": {
    "tags": []
   },
   "outputs": [],
   "source": [
    "# fix random seeds for reproducibility\n",
    "torch.manual_seed(0)\n",
    "torch.backends.cudnn.deterministic = True\n",
    "torch.backends.cudnn.benchmark = False"
   ]
  },
  {
   "cell_type": "code",
   "execution_count": 5,
   "id": "0e5a5f53-5a05-41d9-b4c1-8978b7daa6e7",
   "metadata": {
    "tags": []
   },
   "outputs": [],
   "source": [
    "_dataloader_train = BouncingBallDataLoader(\n",
    "    root_dir=\"bouncing_ball/datasets/bouncing-ball/train\"\n",
    ")\n",
    "_dataloader_test = BouncingBallDataLoader(\n",
    "    root_dir=\"bouncing_ball/datasets/bouncing-ball/test\"\n",
    ")"
   ]
  },
  {
   "cell_type": "code",
   "execution_count": 6,
   "id": "a2fb1320-a03c-4038-bb10-2421402e5189",
   "metadata": {
    "tags": []
   },
   "outputs": [],
   "source": [
    "def sequence_first_collate_fn(batch):\n",
    "    data = torch.Tensor(np.stack(batch, axis=0))\n",
    "    # data.shape: [batch size, sequence length, channels, height, width]\n",
    "    # Reshape to [sequence length, batch size, channels, height, width]\n",
    "    data = data.permute(1, 0, 2, 3, 4)\n",
    "    return data"
   ]
  },
  {
   "cell_type": "code",
   "execution_count": 7,
   "id": "a1b155c4-419a-4057-a178-87125d4254dd",
   "metadata": {
    "tags": []
   },
   "outputs": [],
   "source": [
    "dataloader_train = DataLoader(\n",
    "    _dataloader_train, batch_size=128, shuffle=True, collate_fn=sequence_first_collate_fn\n",
    ")\n",
    "dataloader_test = DataLoader(\n",
    "    _dataloader_test, batch_size=128, shuffle=True, collate_fn=sequence_first_collate_fn\n",
    ")"
   ]
  },
  {
   "cell_type": "code",
   "execution_count": 8,
   "id": "5bb0006e",
   "metadata": {
    "tags": []
   },
   "outputs": [
    {
     "name": "stdout",
     "output_type": "stream",
     "text": [
      "torch.Size([50, 128, 1, 16, 16])\n"
     ]
    }
   ],
   "source": [
    "for i, data in enumerate(dataloader_train):\n",
    "    print(data.shape)\n",
    "    # To Float32\n",
    "    data = (data > 0.5).float()\n",
    "    break"
   ]
  },
  {
   "cell_type": "code",
   "execution_count": 9,
   "id": "c0ab50ae",
   "metadata": {
    "tags": []
   },
   "outputs": [],
   "source": [
    "kvae = KalmanVariationalAutoencoder(\n",
    "    image_size=data.shape[3:],\n",
    "    image_channels=data.shape[2],\n",
    "    a_dim=2,\n",
    "    z_dim=4,\n",
    "    K=3,\n",
    "    decoder_type=\"bernoulli\",\n",
    ").to(dtype=dtype).to(device)"
   ]
  },
  {
   "cell_type": "code",
   "execution_count": 10,
   "id": "237ff1e2",
   "metadata": {
    "tags": []
   },
   "outputs": [],
   "source": [
    "optimizer = torch.optim.Adam(kvae.parameters(), lr=7e-3)\n",
    "scheduler = lr_scheduler.ExponentialLR(optimizer, 0.85)"
   ]
  },
  {
   "cell_type": "code",
   "execution_count": 11,
   "id": "b3d3ef58",
   "metadata": {
    "tags": []
   },
   "outputs": [],
   "source": [
    "def find_latest_checkpoint_index(pattern):\n",
    "    files = glob.glob(pattern)\n",
    "    if files:\n",
    "        return int(\n",
    "            max(files, key=lambda x: int(x.split(\"-\")[-1].split(\".\")[0]))\n",
    "            .split(\"-\")[-1]\n",
    "            .split(\".\")[0]\n",
    "        )\n",
    "    return None\n",
    "\n",
    "\n",
    "latest_index = find_latest_checkpoint_index(os.path.join(checkpoint_dir, \"state-*.pth\"))\n",
    "\n",
    "if latest_index is not None:\n",
    "    checkpoint = torch.load(os.path.join(checkpoint_dir, f\"state-{latest_index}.pth\"))\n",
    "    kvae.load_state_dict(checkpoint[\"model_state_dict\"], strict=False)\n",
    "    optimizer.load_state_dict(checkpoint[\"optimizer_state_dict\"])\n",
    "    epoch_start = checkpoint[\"epoch\"] + 1\n",
    "    print(\"Loaded checkpoint at epoch {}\".format(latest_index))\n",
    "else:\n",
    "    epoch_start = 0"
   ]
  },
  {
   "cell_type": "code",
   "execution_count": 12,
   "id": "c3fb4435",
   "metadata": {
    "tags": []
   },
   "outputs": [
    {
     "name": "stderr",
     "output_type": "stream",
     "text": [
      "Test Epoch 99, Batch 7/8, Loss -42700.16918306143: 100%|██████████████| 100/100 [58:20<00:00, 35.00s/it]\n"
     ]
    }
   ],
   "source": [
    "p = tqdm(range(epoch_start, 100))\n",
    "for epoch in p:\n",
    "    kvae.train()\n",
    "    learn_weight_model = epoch >= warmup_epochs\n",
    "    losses = []\n",
    "    for i, data in enumerate(dataloader_train):\n",
    "        data = (data > 0.5).to(dtype=dtype).to(device)\n",
    "        optimizer.zero_grad()\n",
    "        elbo, info = kvae.elbo(data, learn_weight_model=learn_weight_model, symmetrize_covariance=symmetrize_covariance)\n",
    "        loss = -elbo\n",
    "        loss.backward()\n",
    "        optimizer.step()\n",
    "        losses.append(loss.item())\n",
    "        p.set_description(\n",
    "            f\"Train Epoch {epoch}, Batch {i}/{len(dataloader_train)}, Loss {loss.item()}\"\n",
    "        )\n",
    "    train_loss = sum(losses) / len(losses)\n",
    "\n",
    "    # Test\n",
    "    kvae.eval()\n",
    "    losses = []\n",
    "    for i, data in enumerate(dataloader_test):\n",
    "        data = (data > 0.5).to(dtype=dtype).to(device)\n",
    "        elbo, info = kvae.elbo(data, symmetrize_covariance=symmetrize_covariance)\n",
    "        loss = -elbo\n",
    "        losses.append(loss.item())\n",
    "        p.set_description(\n",
    "            f\"Test Epoch {epoch}, Batch {i}/{len(dataloader_test)}, Loss {loss.item()}\"\n",
    "        )\n",
    "\n",
    "    test_loss = sum(losses) / len(losses)\n",
    "    \n",
    "    if (epoch > 0) & (epoch % 20 == 0):\n",
    "        scheduler.step()\n",
    "\n",
    "    # Save\n",
    "    torch.save(\n",
    "        {\n",
    "            \"epoch\": epoch,\n",
    "            \"model_state_dict\": kvae.state_dict(),\n",
    "            \"optimizer_state_dict\": optimizer.state_dict(),\n",
    "            \"train_loss\": train_loss,\n",
    "            \"test_loss\": test_loss,\n",
    "        },\n",
    "        os.path.join(checkpoint_dir, f\"state-{epoch}.pth\"),\n",
    "    )"
   ]
  },
  {
   "cell_type": "code",
   "execution_count": 13,
   "id": "f7f2478e-deb3-46fd-a916-8a2badf2b85e",
   "metadata": {
    "tags": []
   },
   "outputs": [
    {
     "data": {
      "text/plain": [
       "torch.return_types.linalg_svd(\n",
       "U=tensor([[ 0.8003, -0.2298, -0.5529,  0.0328],\n",
       "        [ 0.2916, -0.3158,  0.5936,  0.6803],\n",
       "        [-0.3086, -0.9204, -0.0777, -0.2273],\n",
       "        [-0.4235,  0.0190, -0.5795,  0.6960]], device='cuda:2',\n",
       "       dtype=torch.float64, grad_fn=<LinalgSvdBackward0>),\n",
       "S=tensor([4.0181, 2.8965, 2.3432, 0.0133], device='cuda:2', dtype=torch.float64,\n",
       "       grad_fn=<LinalgSvdBackward0>),\n",
       "Vh=tensor([[ 0.5411,  0.5638, -0.0017,  0.6240],\n",
       "        [ 0.5422, -0.1799,  0.7618, -0.3055],\n",
       "        [ 0.4475, -0.7550, -0.3792,  0.2931],\n",
       "        [-0.4615, -0.2824,  0.5252,  0.6568]], device='cuda:2',\n",
       "       dtype=torch.float64, grad_fn=<LinalgSvdBackward0>))"
      ]
     },
     "execution_count": 13,
     "metadata": {},
     "output_type": "execute_result"
    }
   ],
   "source": [
    "torch.linalg.svd(kvae.state_space_model.mat_A_K[0])"
   ]
  },
  {
   "cell_type": "code",
   "execution_count": 14,
   "id": "c84cfad8-9665-49c5-993f-5feb19d1e6a5",
   "metadata": {
    "tags": []
   },
   "outputs": [
    {
     "data": {
      "text/plain": [
       "torch.return_types.linalg_svd(\n",
       "U=tensor([[ 0.8264,  0.5620, -0.0350, -0.0105],\n",
       "        [ 0.4371, -0.6724, -0.5489,  0.2355],\n",
       "        [-0.0199, -0.0126, -0.3945, -0.9186],\n",
       "        [-0.3546,  0.4815, -0.7361,  0.3172]], device='cuda:2',\n",
       "       dtype=torch.float64, grad_fn=<LinalgSvdBackward0>),\n",
       "S=tensor([3.2200, 2.3092, 1.4143, 0.6962], device='cuda:2', dtype=torch.float64,\n",
       "       grad_fn=<LinalgSvdBackward0>),\n",
       "Vh=tensor([[ 0.7228, -0.6866,  0.0593,  0.0509],\n",
       "        [ 0.0519,  0.1600,  0.9230,  0.3461],\n",
       "        [ 0.1078,  0.0728,  0.3317, -0.9344],\n",
       "        [ 0.6806,  0.7055, -0.1859,  0.0675]], device='cuda:2',\n",
       "       dtype=torch.float64, grad_fn=<LinalgSvdBackward0>))"
      ]
     },
     "execution_count": 14,
     "metadata": {},
     "output_type": "execute_result"
    }
   ],
   "source": [
    "torch.linalg.svd(kvae.state_space_model.mat_A_K[1])"
   ]
  },
  {
   "cell_type": "code",
   "execution_count": 15,
   "id": "11df0140-73ac-4331-882e-8ff191727bd3",
   "metadata": {
    "tags": []
   },
   "outputs": [
    {
     "data": {
      "text/plain": [
       "torch.return_types.linalg_svd(\n",
       "U=tensor([[ 0.6829,  0.5509,  0.2139, -0.4294],\n",
       "        [ 0.0075, -0.6561,  0.4498, -0.6060],\n",
       "        [ 0.2669, -0.1049,  0.7097,  0.6435],\n",
       "        [-0.6799,  0.5050,  0.4984, -0.1853]], device='cuda:2',\n",
       "       dtype=torch.float64, grad_fn=<LinalgSvdBackward0>),\n",
       "S=tensor([4.1904, 2.3722, 0.8549, 0.0771], device='cuda:2', dtype=torch.float64,\n",
       "       grad_fn=<LinalgSvdBackward0>),\n",
       "Vh=tensor([[ 0.6636, -0.5675,  0.2022,  0.4435],\n",
       "        [-0.2826,  0.0500,  0.9566,  0.0508],\n",
       "        [ 0.4698, -0.0565,  0.1874, -0.8608],\n",
       "        [ 0.5089,  0.8199,  0.0946,  0.2446]], device='cuda:2',\n",
       "       dtype=torch.float64, grad_fn=<LinalgSvdBackward0>))"
      ]
     },
     "execution_count": 15,
     "metadata": {},
     "output_type": "execute_result"
    }
   ],
   "source": [
    "torch.linalg.svd(kvae.state_space_model.mat_A_K[2])"
   ]
  },
  {
   "cell_type": "code",
   "execution_count": 16,
   "id": "276bdbf3-68df-47dd-ba25-b012e88d8232",
   "metadata": {
    "tags": []
   },
   "outputs": [
    {
     "data": {
      "text/plain": [
       "Parameter containing:\n",
       "tensor([[[-0.2851, -0.2979, -0.2173, -0.3037],\n",
       "         [ 1.3102, -0.5970, -0.8599, -1.7043]],\n",
       "\n",
       "        [[-1.6409, -1.0691, -1.2499,  4.1112],\n",
       "         [ 1.0235,  1.2006,  0.4771, -1.6253]],\n",
       "\n",
       "        [[-3.8794, -2.4226, -1.0353,  2.9258],\n",
       "         [ 0.6643,  0.2844,  0.6819, -0.2459]]], device='cuda:2',\n",
       "       dtype=torch.float64, requires_grad=True)"
      ]
     },
     "execution_count": 16,
     "metadata": {},
     "output_type": "execute_result"
    }
   ],
   "source": [
    "kvae.state_space_model.mat_C_K"
   ]
  },
  {
   "cell_type": "code",
   "execution_count": 17,
   "id": "589bb310-487d-4f4b-a718-ccdffc5d8132",
   "metadata": {
    "tags": []
   },
   "outputs": [
    {
     "data": {
      "text/plain": [
       "torch.return_types.linalg_svd(\n",
       "U=tensor([[1., 0., 0., 0.],\n",
       "        [0., 1., 0., 0.],\n",
       "        [0., 0., 1., 0.],\n",
       "        [0., 0., 0., 1.]], device='cuda:2', dtype=torch.float64,\n",
       "       grad_fn=<LinalgSvdBackward0>),\n",
       "S=tensor([0.0010, 0.0010, 0.0010, 0.0010], device='cuda:2', dtype=torch.float64,\n",
       "       grad_fn=<LinalgSvdBackward0>),\n",
       "Vh=tensor([[1., 0., 0., 0.],\n",
       "        [0., 1., 0., 0.],\n",
       "        [0., 0., 1., 0.],\n",
       "        [0., 0., 0., 1.]], device='cuda:2', dtype=torch.float64,\n",
       "       grad_fn=<LinalgSvdBackward0>))"
      ]
     },
     "execution_count": 17,
     "metadata": {},
     "output_type": "execute_result"
    }
   ],
   "source": [
    "torch.linalg.svd(kvae.state_space_model.mat_Q)"
   ]
  },
  {
   "cell_type": "code",
   "execution_count": 18,
   "id": "0feb59c2-fabc-44d3-abb8-aa6f29df0332",
   "metadata": {
    "tags": []
   },
   "outputs": [
    {
     "data": {
      "text/plain": [
       "torch.return_types.linalg_svd(\n",
       "U=tensor([[ 0.0076,  1.0000],\n",
       "        [ 1.0000, -0.0076]], device='cuda:2', dtype=torch.float64,\n",
       "       grad_fn=<LinalgSvdBackward0>),\n",
       "S=tensor([1.0090e+02, 1.0000e-03], device='cuda:2', dtype=torch.float64,\n",
       "       grad_fn=<LinalgSvdBackward0>),\n",
       "Vh=tensor([[ 0.0076,  1.0000],\n",
       "        [ 1.0000, -0.0076]], device='cuda:2', dtype=torch.float64,\n",
       "       grad_fn=<LinalgSvdBackward0>))"
      ]
     },
     "execution_count": 18,
     "metadata": {},
     "output_type": "execute_result"
    }
   ],
   "source": [
    "torch.linalg.svd(kvae.state_space_model.mat_R)"
   ]
  }
 ],
 "metadata": {
  "kernelspec": {
   "display_name": "Python [conda env:kvae_nk]",
   "language": "python",
   "name": "conda-env-kvae_nk-py"
  },
  "language_info": {
   "codemirror_mode": {
    "name": "ipython",
    "version": 3
   },
   "file_extension": ".py",
   "mimetype": "text/x-python",
   "name": "python",
   "nbconvert_exporter": "python",
   "pygments_lexer": "ipython3",
   "version": "3.10.12"
  }
 },
 "nbformat": 4,
 "nbformat_minor": 5
}
