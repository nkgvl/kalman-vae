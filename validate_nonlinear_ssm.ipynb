{
 "cells": [
  {
   "cell_type": "code",
   "execution_count": 1,
   "id": "61aa54ee-4dd2-4b11-8117-254c8dfc0d0a",
   "metadata": {
    "tags": []
   },
   "outputs": [],
   "source": [
    "import glob\n",
    "import json\n",
    "import time\n",
    "import os\n",
    "import shutil\n",
    "\n",
    "import matplotlib.pyplot as plt\n",
    "import numpy as np\n",
    "import torch\n",
    "import torch.optim.lr_scheduler as lr_scheduler\n",
    "from bouncing_ball.dataloaders.bouncing_data import BouncingBallDataLoader\n",
    "from kalman_vae import KalmanVariationalAutoencoder\n",
    "from natsort import natsorted\n",
    "from sample_control import SampleControl\n",
    "from torch.utils.data import DataLoader\n",
    "from tqdm import tqdm"
   ]
  },
  {
   "cell_type": "code",
   "execution_count": 2,
   "id": "940eafb3-bb5a-4910-9c35-1363fefa33ad",
   "metadata": {
    "tags": []
   },
   "outputs": [],
   "source": [
    "for path in glob.glob(\"checkpoints/bouncing_ball_*_\"):\n",
    "    shutil.rmtree(path)"
   ]
  },
  {
   "cell_type": "code",
   "execution_count": 3,
   "id": "de4a8694-c7ba-4a7b-83ae-0fd3fdc3df70",
   "metadata": {
    "tags": []
   },
   "outputs": [],
   "source": [
    "warmup_epochs = 5\n",
    "burn_in = 10\n",
    "device = torch.device(\"cuda:0\")\n",
    "symmetrize_covariance = True\n",
    "sample_control_train = SampleControl.training_defaults()\n",
    "dtype = torch.float64\n",
    "checkpoint_dir = (\n",
    "    f\"checkpoints/bouncing_ball_wo-vae_dtype-{dtype}_warmup-{warmup_epochs}_burnin-{burn_in}_\"\n",
    ")"
   ]
  },
  {
   "cell_type": "code",
   "execution_count": 4,
   "id": "b8f8daea-0b5a-4ccc-aaf1-aa91851bd66f",
   "metadata": {
    "tags": []
   },
   "outputs": [],
   "source": [
    "os.makedirs(checkpoint_dir, exist_ok=True)"
   ]
  },
  {
   "cell_type": "code",
   "execution_count": 5,
   "id": "483f0605",
   "metadata": {
    "tags": []
   },
   "outputs": [],
   "source": [
    "# fix random seeds for reproducibility\n",
    "torch.manual_seed(0)\n",
    "torch.backends.cudnn.deterministic = True\n",
    "torch.backends.cudnn.benchmark = False"
   ]
  },
  {
   "cell_type": "code",
   "execution_count": 6,
   "id": "0e5a5f53-5a05-41d9-b4c1-8978b7daa6e7",
   "metadata": {
    "tags": []
   },
   "outputs": [],
   "source": [
    "_dataloader_train = BouncingBallDataLoader(\n",
    "    root_dir=\"bouncing_ball/datasets/bouncing-ball/train\"\n",
    ")\n",
    "_dataloader_test = BouncingBallDataLoader(\n",
    "    root_dir=\"bouncing_ball/datasets/bouncing-ball/test\"\n",
    ")"
   ]
  },
  {
   "cell_type": "code",
   "execution_count": 7,
   "id": "8115dc64-faee-4f84-9c51-def0dbb584c6",
   "metadata": {},
   "outputs": [],
   "source": [
    "x_tensor = torch.linspace(-2, 2, 16)\n",
    "y_tensor = torch.linspace(2, -2, 16)"
   ]
  },
  {
   "cell_type": "code",
   "execution_count": 8,
   "id": "d9f9f065-7363-457b-8158-4170f0e84191",
   "metadata": {},
   "outputs": [
    {
     "data": {
      "text/plain": [
       "tensor([-2.0000, -1.7333, -1.4667, -1.2000, -0.9333, -0.6667, -0.4000, -0.1333,\n",
       "         0.1333,  0.4000,  0.6667,  0.9333,  1.2000,  1.4667,  1.7333,  2.0000])"
      ]
     },
     "execution_count": 8,
     "metadata": {},
     "output_type": "execute_result"
    }
   ],
   "source": [
    "x_tensor"
   ]
  },
  {
   "cell_type": "code",
   "execution_count": 9,
   "id": "a2fb1320-a03c-4038-bb10-2421402e5189",
   "metadata": {
    "tags": []
   },
   "outputs": [],
   "source": [
    "def sequence_first_collate_fn(batch):\n",
    "    data = torch.Tensor(np.stack(batch, axis=0))\n",
    "    # data.shape: [batch size, sequence length, channels, height, width]\n",
    "    # Reshape to [sequence length, batch size, channels, height, width]\n",
    "    data = data.permute(1, 0, 2, 3, 4)\n",
    "    weight_x = data.mean(-1)\n",
    "    weight_x = (weight_x / weight_x.sum(-1).unsqueeze(-1)).squeeze(-2)\n",
    "    weight_y = data.mean(-2)\n",
    "    weight_y = (weight_y / weight_y.sum(-1).unsqueeze(-1)).squeeze(-2)\n",
    "    \n",
    "    data_x = (weight_x * x_tensor).sum(-1)\n",
    "    data_y = (weight_y * y_tensor).sum(-1)\n",
    "\n",
    "    return torch.stack([data_x, data_y], dim=-1)"
   ]
  },
  {
   "cell_type": "code",
   "execution_count": 10,
   "id": "a1b155c4-419a-4057-a178-87125d4254dd",
   "metadata": {
    "tags": []
   },
   "outputs": [],
   "source": [
    "dataloader_train = DataLoader(\n",
    "    _dataloader_train,\n",
    "    batch_size=128,\n",
    "    shuffle=True,\n",
    "    collate_fn=sequence_first_collate_fn,\n",
    ")\n",
    "dataloader_test = DataLoader(\n",
    "    _dataloader_test, batch_size=128, shuffle=True, collate_fn=sequence_first_collate_fn\n",
    ")"
   ]
  },
  {
   "cell_type": "code",
   "execution_count": 11,
   "id": "5bb0006e",
   "metadata": {
    "tags": []
   },
   "outputs": [],
   "source": [
    "for i, data in enumerate(dataloader_train):\n",
    "    break"
   ]
  },
  {
   "cell_type": "code",
   "execution_count": 14,
   "id": "492bcd12-fc90-4bf8-ac1e-42a07b812236",
   "metadata": {},
   "outputs": [
    {
     "data": {
      "text/plain": [
       "tensor([-0.5905,  1.3333])"
      ]
     },
     "execution_count": 14,
     "metadata": {},
     "output_type": "execute_result"
    }
   ],
   "source": [
    "data[0, 0]"
   ]
  },
  {
   "cell_type": "code",
   "execution_count": null,
   "id": "c0ab50ae",
   "metadata": {
    "tags": []
   },
   "outputs": [],
   "source": [
    "kvae = (\n",
    "    KalmanVariationalAutoencoder(\n",
    "        image_size=(16,16), # dummy\n",
    "        image_channels=1, # dummy\n",
    "        a_dim=2,\n",
    "        z_dim=4,\n",
    "        K=3,\n",
    "        decoder_type=\"bernoulli\",\n",
    "    )\n",
    "    .to(dtype=dtype)\n",
    "    .to(device)\n",
    ")"
   ]
  },
  {
   "cell_type": "code",
   "execution_count": null,
   "id": "237ff1e2",
   "metadata": {
    "tags": []
   },
   "outputs": [],
   "source": [
    "optimizer = torch.optim.Adam(kvae.parameters(), lr=7e-3)\n",
    "scheduler = lr_scheduler.ExponentialLR(optimizer, 0.85)"
   ]
  },
  {
   "cell_type": "code",
   "execution_count": null,
   "id": "b3d3ef58",
   "metadata": {
    "tags": []
   },
   "outputs": [],
   "source": [
    "def find_latest_checkpoint_index(pattern):\n",
    "    files = glob.glob(pattern)\n",
    "    if files:\n",
    "        return int(\n",
    "            max(files, key=lambda x: int(x.split(\"-\")[-1].split(\".\")[0]))\n",
    "            .split(\"-\")[-1]\n",
    "            .split(\".\")[0]\n",
    "        )\n",
    "    return None\n",
    "\n",
    "\n",
    "latest_index = find_latest_checkpoint_index(os.path.join(checkpoint_dir, \"state-*.pth\"))\n",
    "\n",
    "if latest_index is not None:\n",
    "    checkpoint = torch.load(os.path.join(checkpoint_dir, f\"state-{latest_index}.pth\"))\n",
    "    kvae.load_state_dict(checkpoint[\"model_state_dict\"], strict=False)\n",
    "    optimizer.load_state_dict(checkpoint[\"optimizer_state_dict\"])\n",
    "    epoch_start = checkpoint[\"epoch\"] + 1\n",
    "    print(\"Loaded checkpoint at epoch {}\".format(latest_index))\n",
    "else:\n",
    "    epoch_start = 0"
   ]
  },
  {
   "cell_type": "code",
   "execution_count": null,
   "id": "c3fb4435",
   "metadata": {
    "tags": []
   },
   "outputs": [],
   "source": [
    "p = tqdm(range(epoch_start, 80))\n",
    "for epoch in p:\n",
    "    kvae.train()\n",
    "    learn_weight_model = epoch >= warmup_epochs\n",
    "    losses = []\n",
    "    for i, data in enumerate(dataloader_train):\n",
    "        mask = torch.ones(data.shape[:2]).to(device)\n",
    "        data = (data > 0.5).to(dtype=dtype).to(device)\n",
    "        optimizer.zero_grad()\n",
    "        elbo, info = kvae.elbo(\n",
    "            as_=data,\n",
    "            # observation_mask=mask,\n",
    "            reconst_weight=0.3*50,\n",
    "            regularization_weight=1.0*50,\n",
    "            learn_weight_model=learn_weight_model,\n",
    "            symmetrize_covariance=symmetrize_covariance,\n",
    "            burn_in=burn_in,\n",
    "            sample_control=sample_control_train,\n",
    "        )\n",
    "        loss = -elbo/50\n",
    "        loss.backward()\n",
    "        optimizer.step()\n",
    "        losses.append(loss.item())\n",
    "        p.set_description(\n",
    "            f\"Train Epoch {epoch}, Batch {i}/{len(dataloader_train)}, Loss {loss.item()}\"\n",
    "        )\n",
    "    train_loss = sum(losses) / len(losses)\n",
    "\n",
    "    # Test\n",
    "    kvae.eval()\n",
    "    losses = []\n",
    "    for i, data in enumerate(dataloader_test):\n",
    "        data = (data > 0.5).to(dtype=dtype).to(device)\n",
    "        elbo, info = kvae.elbo(\n",
    "            as_=data,\n",
    "            reconst_weight=0.3*50,\n",
    "            regularization_weight=1.0*50,\n",
    "            symmetrize_covariance=symmetrize_covariance,\n",
    "            sample_control=sample_control_train,\n",
    "        )\n",
    "        loss = -elbo/50\n",
    "        losses.append(loss.item())\n",
    "        p.set_description(\n",
    "            f\"Test Epoch {epoch}, Batch {i}/{len(dataloader_test)}, Loss {loss.item()}\"\n",
    "        )\n",
    "\n",
    "    test_loss = sum(losses) / len(losses)\n",
    "\n",
    "    if (epoch > 0) & (epoch % 20 == 0):\n",
    "        scheduler.step()\n",
    "\n",
    "    # Save\n",
    "    torch.save(\n",
    "        {\n",
    "            \"epoch\": epoch,\n",
    "            \"model_state_dict\": kvae.state_dict(),\n",
    "            \"optimizer_state_dict\": optimizer.state_dict(),\n",
    "            \"scheduler_state_dict\": scheduler.state_dict(),\n",
    "            \"train_loss\": train_loss,\n",
    "            \"test_loss\": test_loss,\n",
    "        },\n",
    "        os.path.join(checkpoint_dir, f\"state-{epoch}.pth\"),\n",
    "    )"
   ]
  }
 ],
 "metadata": {
  "kernelspec": {
   "display_name": "Python [conda env:kalman-vae]",
   "language": "python",
   "name": "conda-env-kalman-vae-py"
  },
  "language_info": {
   "codemirror_mode": {
    "name": "ipython",
    "version": 3
   },
   "file_extension": ".py",
   "mimetype": "text/x-python",
   "name": "python",
   "nbconvert_exporter": "python",
   "pygments_lexer": "ipython3",
   "version": "3.11.6"
  }
 },
 "nbformat": 4,
 "nbformat_minor": 5
}
