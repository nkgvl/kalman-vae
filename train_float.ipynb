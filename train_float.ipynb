{
 "cells": [
  {
   "cell_type": "code",
   "execution_count": 1,
   "id": "61aa54ee-4dd2-4b11-8117-254c8dfc0d0a",
   "metadata": {
    "tags": []
   },
   "outputs": [],
   "source": [
    "import glob\n",
    "import json\n",
    "import os\n",
    "\n",
    "import matplotlib.pyplot as plt\n",
    "import numpy as np\n",
    "import torch\n",
    "import torch.optim.lr_scheduler as lr_scheduler\n",
    "from bouncing_ball.dataloaders.bouncing_data import BouncingBallDataLoader\n",
    "from kalman_vae import KalmanVariationalAutoencoder\n",
    "from natsort import natsorted\n",
    "from torch.utils.data import DataLoader\n",
    "from tqdm import tqdm"
   ]
  },
  {
   "cell_type": "code",
   "execution_count": 2,
   "id": "de4a8694-c7ba-4a7b-83ae-0fd3fdc3df70",
   "metadata": {
    "tags": []
   },
   "outputs": [],
   "source": [
    "checkpoint_dir = \"checkpoints/bouncing_ball\"\n",
    "warmup_epochs = 3\n",
    "device = torch.device(\"cuda:2\")\n",
    "symmetrize_covariance = True\n",
    "dtype = torch.float32"
   ]
  },
  {
   "cell_type": "code",
   "execution_count": 3,
   "id": "b8f8daea-0b5a-4ccc-aaf1-aa91851bd66f",
   "metadata": {
    "tags": []
   },
   "outputs": [],
   "source": [
    "os.makedirs(checkpoint_dir, exist_ok=True)"
   ]
  },
  {
   "cell_type": "code",
   "execution_count": 4,
   "id": "483f0605",
   "metadata": {
    "tags": []
   },
   "outputs": [],
   "source": [
    "# fix random seeds for reproducibility\n",
    "torch.manual_seed(0)\n",
    "torch.backends.cudnn.deterministic = True\n",
    "torch.backends.cudnn.benchmark = False"
   ]
  },
  {
   "cell_type": "code",
   "execution_count": 5,
   "id": "0e5a5f53-5a05-41d9-b4c1-8978b7daa6e7",
   "metadata": {
    "tags": []
   },
   "outputs": [],
   "source": [
    "_dataloader_train = BouncingBallDataLoader(\n",
    "    root_dir=\"bouncing_ball/datasets/bouncing-ball/train\"\n",
    ")\n",
    "_dataloader_test = BouncingBallDataLoader(\n",
    "    root_dir=\"bouncing_ball/datasets/bouncing-ball/test\"\n",
    ")"
   ]
  },
  {
   "cell_type": "code",
   "execution_count": 6,
   "id": "a2fb1320-a03c-4038-bb10-2421402e5189",
   "metadata": {
    "tags": []
   },
   "outputs": [],
   "source": [
    "def sequence_first_collate_fn(batch):\n",
    "    data = torch.Tensor(np.stack(batch, axis=0))\n",
    "    # data.shape: [batch size, sequence length, channels, height, width]\n",
    "    # Reshape to [sequence length, batch size, channels, height, width]\n",
    "    data = data.permute(1, 0, 2, 3, 4)\n",
    "    return data"
   ]
  },
  {
   "cell_type": "code",
   "execution_count": 7,
   "id": "a1b155c4-419a-4057-a178-87125d4254dd",
   "metadata": {
    "tags": []
   },
   "outputs": [],
   "source": [
    "dataloader_train = DataLoader(\n",
    "    _dataloader_train, batch_size=128, shuffle=True, collate_fn=sequence_first_collate_fn\n",
    ")\n",
    "dataloader_test = DataLoader(\n",
    "    _dataloader_test, batch_size=128, shuffle=True, collate_fn=sequence_first_collate_fn\n",
    ")"
   ]
  },
  {
   "cell_type": "code",
   "execution_count": 8,
   "id": "5bb0006e",
   "metadata": {
    "tags": []
   },
   "outputs": [
    {
     "name": "stdout",
     "output_type": "stream",
     "text": [
      "torch.Size([50, 128, 1, 16, 16])\n"
     ]
    }
   ],
   "source": [
    "for i, data in enumerate(dataloader_train):\n",
    "    print(data.shape)\n",
    "    # To Float32\n",
    "    data = (data > 0.5).float()\n",
    "    break"
   ]
  },
  {
   "cell_type": "code",
   "execution_count": 9,
   "id": "c0ab50ae",
   "metadata": {
    "tags": []
   },
   "outputs": [],
   "source": [
    "kvae = KalmanVariationalAutoencoder(\n",
    "    image_size=data.shape[3:],\n",
    "    image_channels=data.shape[2],\n",
    "    a_dim=2,\n",
    "    z_dim=4,\n",
    "    K=3,\n",
    "    decoder_type=\"bernoulli\",\n",
    ").to(dtype=dtype).to(device)"
   ]
  },
  {
   "cell_type": "code",
   "execution_count": 10,
   "id": "237ff1e2",
   "metadata": {
    "tags": []
   },
   "outputs": [],
   "source": [
    "optimizer = torch.optim.Adam(kvae.parameters(), lr=7e-3)\n",
    "scheduler = lr_scheduler.ExponentialLR(optimizer, 0.85)"
   ]
  },
  {
   "cell_type": "code",
   "execution_count": 11,
   "id": "b3d3ef58",
   "metadata": {
    "tags": []
   },
   "outputs": [
    {
     "name": "stdout",
     "output_type": "stream",
     "text": [
      "Loaded checkpoint at epoch 36\n"
     ]
    }
   ],
   "source": [
    "def find_latest_checkpoint_index(pattern):\n",
    "    files = glob.glob(pattern)\n",
    "    if files:\n",
    "        return int(\n",
    "            max(files, key=lambda x: int(x.split(\"-\")[-1].split(\".\")[0]))\n",
    "            .split(\"-\")[-1]\n",
    "            .split(\".\")[0]\n",
    "        )\n",
    "    return None\n",
    "\n",
    "\n",
    "latest_index = find_latest_checkpoint_index(os.path.join(checkpoint_dir, \"state-*.pth\"))\n",
    "\n",
    "if latest_index is not None:\n",
    "    checkpoint = torch.load(os.path.join(checkpoint_dir, f\"state-{latest_index}.pth\"))\n",
    "    kvae.load_state_dict(checkpoint[\"model_state_dict\"], strict=False)\n",
    "    optimizer.load_state_dict(checkpoint[\"optimizer_state_dict\"])\n",
    "    epoch_start = checkpoint[\"epoch\"] + 1\n",
    "    print(\"Loaded checkpoint at epoch {}\".format(latest_index))\n",
    "else:\n",
    "    epoch_start = 0"
   ]
  },
  {
   "cell_type": "code",
   "execution_count": 12,
   "id": "c3fb4435",
   "metadata": {
    "tags": []
   },
   "outputs": [
    {
     "name": "stderr",
     "output_type": "stream",
     "text": [
      "Train Epoch 37, Batch 12/40, Loss -25785.853515625:   0%|                        | 0/63 [00:09<?, ?it/s]\n"
     ]
    },
    {
     "ename": "ValueError",
     "evalue": "Expected parameter covariance_matrix (Tensor of shape (6400, 4, 4)) of distribution MultivariateNormal(loc: torch.Size([6400, 4]), covariance_matrix: torch.Size([6400, 4, 4])) to satisfy the constraint PositiveDefinite(), but found invalid values:\ntensor([[[ 0.4385,  0.3582, -0.2104,  0.2592],\n         [ 0.3582,  0.2941, -0.1725,  0.2120],\n         [-0.2104, -0.1725,  0.3439, -0.0443],\n         [ 0.2592,  0.2120, -0.0443,  0.1799]],\n\n        [[ 0.4325,  0.3576, -0.2093,  0.2602],\n         [ 0.3576,  0.2969, -0.1725,  0.2157],\n         [-0.2093, -0.1725,  0.3443, -0.0452],\n         [ 0.2602,  0.2157, -0.0452,  0.1837]],\n\n        [[ 0.4342,  0.3577, -0.2097,  0.2600],\n         [ 0.3577,  0.2959, -0.1723,  0.2147],\n         [-0.2097, -0.1723,  0.3446, -0.0449],\n         [ 0.2600,  0.2147, -0.0449,  0.1828]],\n\n        ...,\n\n        [[ 0.4165, -0.3120, -0.0776,  0.0465],\n         [-0.3120,  0.2355,  0.0581, -0.0344],\n         [-0.0776,  0.0581,  0.0154, -0.0084],\n         [ 0.0465, -0.0344, -0.0084,  0.0056]],\n\n        [[ 0.4161, -0.3119, -0.0776,  0.0466],\n         [-0.3119,  0.2356,  0.0581, -0.0345],\n         [-0.0776,  0.0581,  0.0154, -0.0085],\n         [ 0.0466, -0.0345, -0.0085,  0.0056]],\n\n        [[ 0.4159, -0.3113, -0.0783,  0.0475],\n         [-0.3113,  0.2346,  0.0586, -0.0351],\n         [-0.0783,  0.0586,  0.0157, -0.0087],\n         [ 0.0475, -0.0351, -0.0087,  0.0058]]], device='cuda:2',\n       grad_fn=<ExpandBackward0>)",
     "output_type": "error",
     "traceback": [
      "\u001b[0;31m---------------------------------------------------------------------------\u001b[0m",
      "\u001b[0;31mValueError\u001b[0m                                Traceback (most recent call last)",
      "Cell \u001b[0;32mIn[12], line 9\u001b[0m\n\u001b[1;32m      7\u001b[0m data \u001b[38;5;241m=\u001b[39m (data \u001b[38;5;241m>\u001b[39m \u001b[38;5;241m0.5\u001b[39m)\u001b[38;5;241m.\u001b[39mto(dtype\u001b[38;5;241m=\u001b[39mdtype)\u001b[38;5;241m.\u001b[39mto(device)\n\u001b[1;32m      8\u001b[0m optimizer\u001b[38;5;241m.\u001b[39mzero_grad()\n\u001b[0;32m----> 9\u001b[0m elbo, info \u001b[38;5;241m=\u001b[39m \u001b[43mkvae\u001b[49m\u001b[38;5;241;43m.\u001b[39;49m\u001b[43melbo\u001b[49m\u001b[43m(\u001b[49m\u001b[43mdata\u001b[49m\u001b[43m,\u001b[49m\u001b[43m \u001b[49m\u001b[43mlearn_weight_model\u001b[49m\u001b[38;5;241;43m=\u001b[39;49m\u001b[43mlearn_weight_model\u001b[49m\u001b[43m,\u001b[49m\u001b[43m \u001b[49m\u001b[43msymmetrize_covariance\u001b[49m\u001b[38;5;241;43m=\u001b[39;49m\u001b[43msymmetrize_covariance\u001b[49m\u001b[43m)\u001b[49m\n\u001b[1;32m     10\u001b[0m loss \u001b[38;5;241m=\u001b[39m \u001b[38;5;241m-\u001b[39melbo\n\u001b[1;32m     11\u001b[0m loss\u001b[38;5;241m.\u001b[39mbackward()\n",
      "File \u001b[0;32m~/Projects/kalman-vae/kalman_vae.py:126\u001b[0m, in \u001b[0;36mKalmanVariationalAutoencoder.elbo\u001b[0;34m(self, xs, reconst_weight, regularization_weight, kalman_weight, kl_weight, learn_weight_model, symmetrize_covariance)\u001b[0m\n\u001b[1;32m    112\u001b[0m means, covariances \u001b[38;5;241m=\u001b[39m \u001b[38;5;28mself\u001b[39m\u001b[38;5;241m.\u001b[39mstate_space_model\u001b[38;5;241m.\u001b[39mkalman_smooth(\n\u001b[1;32m    113\u001b[0m     as_sample,\n\u001b[1;32m    114\u001b[0m     filter_means\u001b[38;5;241m=\u001b[39mfilter_means,\n\u001b[0;32m   (...)\u001b[0m\n\u001b[1;32m    120\u001b[0m     symmetrize_covariance\u001b[38;5;241m=\u001b[39msymmetrize_covariance,\n\u001b[1;32m    121\u001b[0m )\n\u001b[1;32m    123\u001b[0m \u001b[38;5;66;03m# Sample from p_\\gamma (z|a,u)\u001b[39;00m\n\u001b[1;32m    124\u001b[0m \u001b[38;5;66;03m# Shape of means: (sequence_length, batch_size, z_dim, 1)\u001b[39;00m\n\u001b[1;32m    125\u001b[0m \u001b[38;5;66;03m# Shape of covariances: (sequence_length, batch_size, z_dim, z_dim)\u001b[39;00m\n\u001b[0;32m--> 126\u001b[0m zs_distrib \u001b[38;5;241m=\u001b[39m \u001b[43mD\u001b[49m\u001b[38;5;241;43m.\u001b[39;49m\u001b[43mMultivariateNormal\u001b[49m\u001b[43m(\u001b[49m\n\u001b[1;32m    127\u001b[0m \u001b[43m    \u001b[49m\u001b[43mmeans\u001b[49m\u001b[38;5;241;43m.\u001b[39;49m\u001b[43mview\u001b[49m\u001b[43m(\u001b[49m\u001b[38;5;241;43m-\u001b[39;49m\u001b[38;5;241;43m1\u001b[39;49m\u001b[43m,\u001b[49m\u001b[43m \u001b[49m\u001b[38;5;28;43mself\u001b[39;49m\u001b[38;5;241;43m.\u001b[39;49m\u001b[43mz_dim\u001b[49m\u001b[43m)\u001b[49m\u001b[43m,\u001b[49m\u001b[43m \u001b[49m\u001b[43mcovariances\u001b[49m\u001b[38;5;241;43m.\u001b[39;49m\u001b[43mview\u001b[49m\u001b[43m(\u001b[49m\u001b[38;5;241;43m-\u001b[39;49m\u001b[38;5;241;43m1\u001b[39;49m\u001b[43m,\u001b[49m\u001b[43m \u001b[49m\u001b[38;5;28;43mself\u001b[39;49m\u001b[38;5;241;43m.\u001b[39;49m\u001b[43mz_dim\u001b[49m\u001b[43m,\u001b[49m\u001b[43m \u001b[49m\u001b[38;5;28;43mself\u001b[39;49m\u001b[38;5;241;43m.\u001b[39;49m\u001b[43mz_dim\u001b[49m\u001b[43m)\u001b[49m\n\u001b[1;32m    128\u001b[0m \u001b[43m\u001b[49m\u001b[43m)\u001b[49m\n\u001b[1;32m    130\u001b[0m \u001b[38;5;66;03m# KL divergence between q_\\phi(a|x) and p(z) for VAE validation purposes\u001b[39;00m\n\u001b[1;32m    131\u001b[0m \u001b[38;5;28;01mif\u001b[39;00m kl_weight \u001b[38;5;241m!=\u001b[39m \u001b[38;5;241m0.0\u001b[39m:\n",
      "File \u001b[0;32m/data2/packages/anaconda3/envs/kvae_nk/lib/python3.10/site-packages/torch/distributions/multivariate_normal.py:177\u001b[0m, in \u001b[0;36mMultivariateNormal.__init__\u001b[0;34m(self, loc, covariance_matrix, precision_matrix, scale_tril, validate_args)\u001b[0m\n\u001b[1;32m    174\u001b[0m \u001b[38;5;28mself\u001b[39m\u001b[38;5;241m.\u001b[39mloc \u001b[38;5;241m=\u001b[39m loc\u001b[38;5;241m.\u001b[39mexpand(batch_shape \u001b[38;5;241m+\u001b[39m (\u001b[38;5;241m-\u001b[39m\u001b[38;5;241m1\u001b[39m,))\n\u001b[1;32m    176\u001b[0m event_shape \u001b[38;5;241m=\u001b[39m \u001b[38;5;28mself\u001b[39m\u001b[38;5;241m.\u001b[39mloc\u001b[38;5;241m.\u001b[39mshape[\u001b[38;5;241m-\u001b[39m\u001b[38;5;241m1\u001b[39m:]\n\u001b[0;32m--> 177\u001b[0m \u001b[38;5;28;43msuper\u001b[39;49m\u001b[43m(\u001b[49m\u001b[43m)\u001b[49m\u001b[38;5;241;43m.\u001b[39;49m\u001b[38;5;21;43m__init__\u001b[39;49m\u001b[43m(\u001b[49m\u001b[43mbatch_shape\u001b[49m\u001b[43m,\u001b[49m\u001b[43m \u001b[49m\u001b[43mevent_shape\u001b[49m\u001b[43m,\u001b[49m\u001b[43m \u001b[49m\u001b[43mvalidate_args\u001b[49m\u001b[38;5;241;43m=\u001b[39;49m\u001b[43mvalidate_args\u001b[49m\u001b[43m)\u001b[49m\n\u001b[1;32m    179\u001b[0m \u001b[38;5;28;01mif\u001b[39;00m scale_tril \u001b[38;5;129;01mis\u001b[39;00m \u001b[38;5;129;01mnot\u001b[39;00m \u001b[38;5;28;01mNone\u001b[39;00m:\n\u001b[1;32m    180\u001b[0m     \u001b[38;5;28mself\u001b[39m\u001b[38;5;241m.\u001b[39m_unbroadcasted_scale_tril \u001b[38;5;241m=\u001b[39m scale_tril\n",
      "File \u001b[0;32m/data2/packages/anaconda3/envs/kvae_nk/lib/python3.10/site-packages/torch/distributions/distribution.py:68\u001b[0m, in \u001b[0;36mDistribution.__init__\u001b[0;34m(self, batch_shape, event_shape, validate_args)\u001b[0m\n\u001b[1;32m     66\u001b[0m         valid \u001b[38;5;241m=\u001b[39m constraint\u001b[38;5;241m.\u001b[39mcheck(value)\n\u001b[1;32m     67\u001b[0m         \u001b[38;5;28;01mif\u001b[39;00m \u001b[38;5;129;01mnot\u001b[39;00m valid\u001b[38;5;241m.\u001b[39mall():\n\u001b[0;32m---> 68\u001b[0m             \u001b[38;5;28;01mraise\u001b[39;00m \u001b[38;5;167;01mValueError\u001b[39;00m(\n\u001b[1;32m     69\u001b[0m                 \u001b[38;5;124mf\u001b[39m\u001b[38;5;124m\"\u001b[39m\u001b[38;5;124mExpected parameter \u001b[39m\u001b[38;5;132;01m{\u001b[39;00mparam\u001b[38;5;132;01m}\u001b[39;00m\u001b[38;5;124m \u001b[39m\u001b[38;5;124m\"\u001b[39m\n\u001b[1;32m     70\u001b[0m                 \u001b[38;5;124mf\u001b[39m\u001b[38;5;124m\"\u001b[39m\u001b[38;5;124m(\u001b[39m\u001b[38;5;132;01m{\u001b[39;00m\u001b[38;5;28mtype\u001b[39m(value)\u001b[38;5;241m.\u001b[39m\u001b[38;5;18m__name__\u001b[39m\u001b[38;5;132;01m}\u001b[39;00m\u001b[38;5;124m of shape \u001b[39m\u001b[38;5;132;01m{\u001b[39;00m\u001b[38;5;28mtuple\u001b[39m(value\u001b[38;5;241m.\u001b[39mshape)\u001b[38;5;132;01m}\u001b[39;00m\u001b[38;5;124m) \u001b[39m\u001b[38;5;124m\"\u001b[39m\n\u001b[1;32m     71\u001b[0m                 \u001b[38;5;124mf\u001b[39m\u001b[38;5;124m\"\u001b[39m\u001b[38;5;124mof distribution \u001b[39m\u001b[38;5;132;01m{\u001b[39;00m\u001b[38;5;28mrepr\u001b[39m(\u001b[38;5;28mself\u001b[39m)\u001b[38;5;132;01m}\u001b[39;00m\u001b[38;5;124m \u001b[39m\u001b[38;5;124m\"\u001b[39m\n\u001b[1;32m     72\u001b[0m                 \u001b[38;5;124mf\u001b[39m\u001b[38;5;124m\"\u001b[39m\u001b[38;5;124mto satisfy the constraint \u001b[39m\u001b[38;5;132;01m{\u001b[39;00m\u001b[38;5;28mrepr\u001b[39m(constraint)\u001b[38;5;132;01m}\u001b[39;00m\u001b[38;5;124m, \u001b[39m\u001b[38;5;124m\"\u001b[39m\n\u001b[1;32m     73\u001b[0m                 \u001b[38;5;124mf\u001b[39m\u001b[38;5;124m\"\u001b[39m\u001b[38;5;124mbut found invalid values:\u001b[39m\u001b[38;5;130;01m\\n\u001b[39;00m\u001b[38;5;132;01m{\u001b[39;00mvalue\u001b[38;5;132;01m}\u001b[39;00m\u001b[38;5;124m\"\u001b[39m\n\u001b[1;32m     74\u001b[0m             )\n\u001b[1;32m     75\u001b[0m \u001b[38;5;28msuper\u001b[39m()\u001b[38;5;241m.\u001b[39m\u001b[38;5;21m__init__\u001b[39m()\n",
      "\u001b[0;31mValueError\u001b[0m: Expected parameter covariance_matrix (Tensor of shape (6400, 4, 4)) of distribution MultivariateNormal(loc: torch.Size([6400, 4]), covariance_matrix: torch.Size([6400, 4, 4])) to satisfy the constraint PositiveDefinite(), but found invalid values:\ntensor([[[ 0.4385,  0.3582, -0.2104,  0.2592],\n         [ 0.3582,  0.2941, -0.1725,  0.2120],\n         [-0.2104, -0.1725,  0.3439, -0.0443],\n         [ 0.2592,  0.2120, -0.0443,  0.1799]],\n\n        [[ 0.4325,  0.3576, -0.2093,  0.2602],\n         [ 0.3576,  0.2969, -0.1725,  0.2157],\n         [-0.2093, -0.1725,  0.3443, -0.0452],\n         [ 0.2602,  0.2157, -0.0452,  0.1837]],\n\n        [[ 0.4342,  0.3577, -0.2097,  0.2600],\n         [ 0.3577,  0.2959, -0.1723,  0.2147],\n         [-0.2097, -0.1723,  0.3446, -0.0449],\n         [ 0.2600,  0.2147, -0.0449,  0.1828]],\n\n        ...,\n\n        [[ 0.4165, -0.3120, -0.0776,  0.0465],\n         [-0.3120,  0.2355,  0.0581, -0.0344],\n         [-0.0776,  0.0581,  0.0154, -0.0084],\n         [ 0.0465, -0.0344, -0.0084,  0.0056]],\n\n        [[ 0.4161, -0.3119, -0.0776,  0.0466],\n         [-0.3119,  0.2356,  0.0581, -0.0345],\n         [-0.0776,  0.0581,  0.0154, -0.0085],\n         [ 0.0466, -0.0345, -0.0085,  0.0056]],\n\n        [[ 0.4159, -0.3113, -0.0783,  0.0475],\n         [-0.3113,  0.2346,  0.0586, -0.0351],\n         [-0.0783,  0.0586,  0.0157, -0.0087],\n         [ 0.0475, -0.0351, -0.0087,  0.0058]]], device='cuda:2',\n       grad_fn=<ExpandBackward0>)"
     ]
    }
   ],
   "source": [
    "p = tqdm(range(epoch_start, 100))\n",
    "for epoch in p:\n",
    "    kvae.train()\n",
    "    learn_weight_model = epoch >= warmup_epochs\n",
    "    losses = []\n",
    "    for i, data in enumerate(dataloader_train):\n",
    "        data = (data > 0.5).to(dtype=dtype).to(device)\n",
    "        optimizer.zero_grad()\n",
    "        elbo, info = kvae.elbo(data, learn_weight_model=learn_weight_model, symmetrize_covariance=symmetrize_covariance)\n",
    "        loss = -elbo\n",
    "        loss.backward()\n",
    "        optimizer.step()\n",
    "        losses.append(loss.item())\n",
    "        p.set_description(\n",
    "            f\"Train Epoch {epoch}, Batch {i}/{len(dataloader_train)}, Loss {loss.item()}\"\n",
    "        )\n",
    "    train_loss = sum(losses) / len(losses)\n",
    "\n",
    "    # Test\n",
    "    kvae.eval()\n",
    "    losses = []\n",
    "    for i, data in enumerate(dataloader_test):\n",
    "        data = (data > 0.5).to(dtype=dtype).to(device)\n",
    "        elbo, info = kvae.elbo(data, symmetrize_covariance=symmetrize_covariance)\n",
    "        loss = -elbo\n",
    "        losses.append(loss.item())\n",
    "        p.set_description(\n",
    "            f\"Test Epoch {epoch}, Batch {i}/{len(dataloader_test)}, Loss {loss.item()}\"\n",
    "        )\n",
    "\n",
    "    test_loss = sum(losses) / len(losses)\n",
    "    \n",
    "    if (epoch > 0) & (epoch % 20 == 0):\n",
    "        scheduler.step()\n",
    "\n",
    "    # Save\n",
    "    torch.save(\n",
    "        {\n",
    "            \"epoch\": epoch,\n",
    "            \"model_state_dict\": kvae.state_dict(),\n",
    "            \"optimizer_state_dict\": optimizer.state_dict(),\n",
    "            \"train_loss\": train_loss,\n",
    "            \"test_loss\": test_loss,\n",
    "        },\n",
    "        os.path.join(checkpoint_dir, f\"state-{epoch}.pth\"),\n",
    "    )"
   ]
  },
  {
   "cell_type": "code",
   "execution_count": null,
   "id": "f7f2478e-deb3-46fd-a916-8a2badf2b85e",
   "metadata": {
    "tags": []
   },
   "outputs": [],
   "source": [
    "torch.linalg.svd(kvae.state_space_model.mat_A_K[0])"
   ]
  },
  {
   "cell_type": "code",
   "execution_count": null,
   "id": "c84cfad8-9665-49c5-993f-5feb19d1e6a5",
   "metadata": {
    "tags": []
   },
   "outputs": [],
   "source": [
    "torch.linalg.svd(kvae.state_space_model.mat_A_K[1])"
   ]
  },
  {
   "cell_type": "code",
   "execution_count": null,
   "id": "11df0140-73ac-4331-882e-8ff191727bd3",
   "metadata": {
    "tags": []
   },
   "outputs": [],
   "source": [
    "torch.linalg.svd(kvae.state_space_model.mat_A_K[2])"
   ]
  },
  {
   "cell_type": "code",
   "execution_count": null,
   "id": "276bdbf3-68df-47dd-ba25-b012e88d8232",
   "metadata": {
    "tags": []
   },
   "outputs": [],
   "source": [
    "kvae.state_space_model.mat_C_K"
   ]
  },
  {
   "cell_type": "code",
   "execution_count": null,
   "id": "589bb310-487d-4f4b-a718-ccdffc5d8132",
   "metadata": {
    "tags": []
   },
   "outputs": [],
   "source": [
    "torch.linalg.svd(kvae.state_space_model.mat_Q)"
   ]
  },
  {
   "cell_type": "code",
   "execution_count": null,
   "id": "0feb59c2-fabc-44d3-abb8-aa6f29df0332",
   "metadata": {
    "tags": []
   },
   "outputs": [],
   "source": [
    "torch.linalg.svd(kvae.state_space_model.mat_R)"
   ]
  }
 ],
 "metadata": {
  "kernelspec": {
   "display_name": "Python 3 (ipykernel)",
   "language": "python",
   "name": "python3"
  },
  "language_info": {
   "codemirror_mode": {
    "name": "ipython",
    "version": 3
   },
   "file_extension": ".py",
   "mimetype": "text/x-python",
   "name": "python",
   "nbconvert_exporter": "python",
   "pygments_lexer": "ipython3",
   "version": "3.11.5"
  }
 },
 "nbformat": 4,
 "nbformat_minor": 5
}
