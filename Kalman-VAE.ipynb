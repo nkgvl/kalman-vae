{
 "cells": [
  {
   "cell_type": "code",
   "execution_count": 9,
   "id": "61aa54ee-4dd2-4b11-8117-254c8dfc0d0a",
   "metadata": {
    "tags": []
   },
   "outputs": [],
   "source": [
    "import os\n",
    "\n",
    "import torch\n",
    "import torch.nn.functional as F\n",
    "import torch.distributions as D\n",
    "from torch import nn\n",
    "from torch.utils.data import DataLoader\n",
    "from torchvision import datasets, transforms\n",
    "\n",
    "from vae import Encoder, Decoder\n",
    "from ssm import StateSpaceModel"
   ]
  },
  {
   "cell_type": "code",
   "execution_count": 6,
   "id": "888e3854-ed6a-45ee-bb44-d4006065c3d3",
   "metadata": {
    "tags": []
   },
   "outputs": [],
   "source": [
    "a_dim = 10"
   ]
  },
  {
   "cell_type": "code",
   "execution_count": null,
   "id": "cdc28672",
   "metadata": {},
   "outputs": [],
   "source": [
    "ssm = StateSpaceModel(2, 2, 3)\n",
    "as_ = torch.randn(8, 16, 2)"
   ]
  },
  {
   "cell_type": "code",
   "execution_count": 17,
   "id": "8ed92b4f",
   "metadata": {
    "tags": []
   },
   "outputs": [],
   "source": [
    "filter_means, filter_covariances, filter_next_means, filter_next_covariances, mat_As, mat_Cs = ssm.kalman_filter(as_)\n",
    "means, covariances = ssm.kalman_smooth(as_, filter_means, filter_covariances, filter_next_means, filter_next_covariances, mat_As, mat_Cs)"
   ]
  },
  {
   "cell_type": "code",
   "execution_count": null,
   "id": "d42cc243-ed37-4791-9fbc-3adbf676335a",
   "metadata": {
    "tags": []
   },
   "outputs": [],
   "source": [
    "class KalmanVariationalAutoencoder(nn.Module):\n",
    "    def __init__(self, a_dim, z_dim, K):\n",
    "        super(KalmanVariationalAutoencoder, self).__init__()\n",
    "        self.encoder = Encoder(a_dim)\n",
    "        self.decoder = Decoder(a_dim)\n",
    "        self.state_space_model = StateSpaceModel(a_dim, z_dim, K)\n",
    "    \n",
    "    def objective(self, xs):\n",
    "        seq_length = xs.shape[0]\n",
    "        batch_size = xs.shape[1]\n",
    "        \n",
    "        as_mean, as_std = self.encoder(xs.view(-1, *xs.shape[2:]))\n",
    "        as_mean = as_mean.view(seq_length, batch_size, *as_mean.shape[2:])\n",
    "        as_std = as_std.view(seq_length, batch_size, *as_std.shape[2:])\n",
    "\n",
    "        # Sample from q_\\phi (a|x)\n",
    "        as_sample = D.Normal(as_mean, as_std).rsample()\n",
    "\n",
    "        # Reconstruction loss\n",
    "        xs, xs_logits = self.decoder(as_sample)\n",
    "        reconstruction_obj = D.Bernoulli(logits=xs_logits).log_prob(xs).sum()\n",
    "        \n",
    "        q_obj= -D.Normal(as_mean, as_std).log_prob(as_sample).sum(0).mean(0).sum()\n",
    "\n",
    "        # Kalman filter and smoother\n",
    "        filter_means, filter_covariances, filter_next_means, filter_next_covariances, mat_As, mat_Cs = self.state_space_model.kalman_filter(as_sample)\n",
    "        means, covariances = self.state_space_model.kalman_smooth(as_sample, filter_means, filter_covariances, filter_next_means, filter_next_covariances, mat_As, mat_Cs)\n",
    "\n",
    "        # Sample from p_\\gamma (z|a,u)\n",
    "        # Shape of means: (sequence_length, batch_size, z_dim, 1)\n",
    "        # Shape of covariances: (sequence_length, batch_size, z_dim, z_dim)\n",
    "        zs_distrib = D.MultivariateNormal(means.view(-1, z_dim, 1), covariances.view(-1, z_dim, z_dim))\n",
    "        zs_sample = zs_distrib.rsample()\n",
    "        zs_sample = zs_sample.view(seq_length, batch_size, z_dim, 1)\n",
    "\n",
    "        # ln p_\\gamma(a|z)\n",
    "        kalman_reconst_distrib = D.Normal(mat_Cs @ zs_sample, self.state_space_model.mat_R)\n",
    "        kalman_reconst_obj = kalman_reconst_distrib.log_prob(as_sample).sum(0).mean(0).sum()\n",
    "\n",
    "        # -ln p_\\gamma(z|a)\n",
    "        gamma_obj = - zs_distrib.log_prob(zs_sample.view(-1, z_dim, 1)).sum(0).mean(0).sum()\n",
    "\n",
    "        objective = reconstruction_obj + q_obj + kalman_reconst_obj + gamma_obj\n",
    "        \n",
    "        return objective, {\n",
    "            'reconstruction': reconstruction_obj,\n",
    "            'q': q_obj,\n",
    "            'kalman_reconst': kalman_reconst_obj,\n",
    "            'gamma': gamma_obj\n",
    "        }\n"
   ]
  },
  {
   "cell_type": "code",
   "execution_count": null,
   "id": "044ceb4c-e286-4168-99c4-eb1da153969c",
   "metadata": {
    "tags": []
   },
   "outputs": [],
   "source": [
    "image = torch.zeros(1, 3, 32, 32)\n",
    "encoder = Encoder(a_dim=a_dim)\n",
    "decoder = Decoder(a_dim=a_dim)\n",
    "decoder(encoder(image)).shape"
   ]
  },
  {
   "cell_type": "code",
   "execution_count": null,
   "id": "2f07dc26-639b-43b3-b69c-49d7137c3b05",
   "metadata": {},
   "outputs": [],
   "source": []
  }
 ],
 "metadata": {
  "kernelspec": {
   "display_name": "Python [conda env:pytorch]",
   "language": "python",
   "name": "conda-env-pytorch-py"
  },
  "language_info": {
   "codemirror_mode": {
    "name": "ipython",
    "version": 3
   },
   "file_extension": ".py",
   "mimetype": "text/x-python",
   "name": "python",
   "nbconvert_exporter": "python",
   "pygments_lexer": "ipython3",
   "version": "3.10.13"
  }
 },
 "nbformat": 4,
 "nbformat_minor": 5
}
