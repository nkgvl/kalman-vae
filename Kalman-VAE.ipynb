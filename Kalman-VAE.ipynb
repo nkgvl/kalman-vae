{
 "cells": [
  {
   "cell_type": "code",
   "execution_count": 84,
   "id": "61aa54ee-4dd2-4b11-8117-254c8dfc0d0a",
   "metadata": {
    "tags": [],
    "vscode": {
     "languageId": "python"
    }
   },
   "outputs": [],
   "source": [
    "import os\n",
    "\n",
    "import torch\n",
    "import torch.nn.functional as F\n",
    "import torch.distributions as D\n",
    "from torch import nn\n",
    "from torch.utils.data import DataLoader\n",
    "from torchvision import datasets, transforms\n",
    "\n",
    "from vae import Encoder, BernoulliDecoder, GaussianDecoder\n",
    "from ssm import StateSpaceModel"
   ]
  },
  {
   "cell_type": "code",
   "execution_count": 85,
   "id": "d42cc243-ed37-4791-9fbc-3adbf676335a",
   "metadata": {
    "tags": [],
    "vscode": {
     "languageId": "python"
    }
   },
   "outputs": [],
   "source": [
    "class KalmanVariationalAutoencoder(nn.Module):\n",
    "    def __init__(self, image_size, image_channels, a_dim, z_dim, K):\n",
    "        super(KalmanVariationalAutoencoder, self).__init__()\n",
    "        self.encoder = Encoder(image_size, image_channels, a_dim)\n",
    "        self.decoder = GaussianDecoder(a_dim, image_size, image_channels)\n",
    "        self.state_space_model = StateSpaceModel(a_dim, z_dim, K)\n",
    "        self.a_dim = a_dim\n",
    "        self.z_dim = z_dim\n",
    "    \n",
    "    def objective(self, xs):\n",
    "        seq_length = xs.shape[0]\n",
    "        batch_size = xs.shape[1]\n",
    "        \n",
    "        as_dist = self.encoder(xs.view(-1, *xs.shape[2:]))\n",
    "        as_sample = as_dist.rsample().view(seq_length, batch_size, self.a_dim)\n",
    "\n",
    "        # Reconstruction objective\n",
    "        xs_dist = self.decoder(as_sample.view(-1, self.a_dim))\n",
    "        reconstruction_obj = xs_dist.log_prob(xs.view(-1, *xs.shape[2:])).sum(0).mean(0).sum()\n",
    "\n",
    "        # Regularization objective\n",
    "        # -ln q_\\phi(a|x)\n",
    "        regularization_obj = - as_dist.log_prob(as_sample.view(-1, self.a_dim)).sum(0).mean(0).sum()\n",
    "        \n",
    "        # Kalman filter and smoother\n",
    "        filter_means, filter_covariances, filter_next_means, filter_next_covariances, mat_As, mat_Cs = self.state_space_model.kalman_filter(as_sample)\n",
    "        means, covariances = self.state_space_model.kalman_smooth(as_sample, filter_means, filter_covariances, filter_next_means, filter_next_covariances, mat_As, mat_Cs)\n",
    "\n",
    "        # Sample from p_\\gamma (z|a,u)\n",
    "        # Shape of means: (sequence_length, batch_size, z_dim, 1)\n",
    "        # Shape of covariances: (sequence_length, batch_size, z_dim, z_dim)\n",
    "        zs_distrib = D.MultivariateNormal(means.view(-1, self.z_dim), covariances.view(-1, self.z_dim, self.z_dim))\n",
    "\n",
    "        # For testing purposes\n",
    "        # zs_distrib = D.MultivariateNormal(torch.stack(filter_means).view(-1, self.z_dim), torch.stack(filter_covariances).view(-1, self.z_dim, self.z_dim))\n",
    "\n",
    "        zs_sample = zs_distrib.rsample()\n",
    "        zs_sample = zs_sample.view(seq_length, batch_size, self.z_dim, 1)\n",
    "\n",
    "        # ln p_\\gamma(a|z)\n",
    "        kalman_reconst_distrib = D.MultivariateNormal((mat_Cs @ zs_sample).view(-1, self.a_dim), self.state_space_model.mat_R)\n",
    "        kalman_reconst_obj = kalman_reconst_distrib.log_prob(as_sample.view(-1, self.a_dim)).view(seq_length, batch_size, -1).sum(0).mean(0).sum()\n",
    "\n",
    "        # -ln p_\\gamma(z|a)\n",
    "        gamma_obj = - zs_distrib.log_prob(zs_sample.view(-1, self.z_dim)).view(seq_length, batch_size, -1).sum(0).mean(0).sum()\n",
    "\n",
    "        objective = reconstruction_obj + regularization_obj + kalman_reconst_obj + gamma_obj\n",
    "        \n",
    "        return objective, {\n",
    "            'reconstruction': reconstruction_obj,\n",
    "            'regularization': regularization_obj,\n",
    "            'kalman_reconst': kalman_reconst_obj,\n",
    "            'gamma': gamma_obj\n",
    "        }\n"
   ]
  },
  {
   "cell_type": "code",
   "execution_count": 86,
   "id": "044ceb4c-e286-4168-99c4-eb1da153969c",
   "metadata": {
    "tags": [],
    "vscode": {
     "languageId": "python"
    }
   },
   "outputs": [],
   "source": [
    "image = torch.zeros(8, 16, 1, 32, 32)\n",
    "image_size = image.shape[-2:]"
   ]
  },
  {
   "cell_type": "code",
   "execution_count": 87,
   "id": "2f07dc26-639b-43b3-b69c-49d7137c3b05",
   "metadata": {
    "tags": [],
    "vscode": {
     "languageId": "python"
    }
   },
   "outputs": [],
   "source": [
    "kvae = KalmanVariationalAutoencoder(image_size, 1, 2, 4, 8)"
   ]
  },
  {
   "cell_type": "code",
   "execution_count": 88,
   "id": "b8a07fb6",
   "metadata": {
    "vscode": {
     "languageId": "python"
    }
   },
   "outputs": [
    {
     "data": {
      "text/plain": [
       "(tensor(-92975.9141, grad_fn=<AddBackward0>),\n",
       " {'reconstruction': tensor(-93150.1250, grad_fn=<SumBackward0>),\n",
       "  'regularization': tensor(136.0768, grad_fn=<NegBackward0>),\n",
       "  'kalman_reconst': tensor(-8.6150, grad_fn=<SumBackward0>),\n",
       "  'gamma': tensor(46.7481, grad_fn=<NegBackward0>)})"
      ]
     },
     "execution_count": 88,
     "metadata": {},
     "output_type": "execute_result"
    }
   ],
   "source": [
    "kvae.objective(image)"
   ]
  },
  {
   "cell_type": "code",
   "execution_count": null,
   "id": "206f3347",
   "metadata": {
    "vscode": {
     "languageId": "python"
    }
   },
   "outputs": [],
   "source": []
  }
 ],
 "metadata": {
  "kernelspec": {
   "display_name": "Python [conda env:pytorch]",
   "language": "python",
   "name": "conda-env-pytorch-py"
  },
  "language_info": {
   "name": "",
   "version": ""
  }
 },
 "nbformat": 4,
 "nbformat_minor": 5
}
