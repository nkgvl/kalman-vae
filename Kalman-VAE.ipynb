{
 "cells": [
  {
   "cell_type": "code",
   "execution_count": 102,
   "id": "61aa54ee-4dd2-4b11-8117-254c8dfc0d0a",
   "metadata": {
    "tags": []
   },
   "outputs": [],
   "source": [
    "import os\n",
    "\n",
    "import torch\n",
    "import torch.nn.functional as F\n",
    "from torch import nn\n",
    "from torch.utils.data import DataLoader\n",
    "from torchvision import datasets, transforms"
   ]
  },
  {
   "cell_type": "code",
   "execution_count": 103,
   "id": "888e3854-ed6a-45ee-bb44-d4006065c3d3",
   "metadata": {
    "tags": []
   },
   "outputs": [],
   "source": [
    "a_dim = 10"
   ]
  },
  {
   "cell_type": "code",
   "execution_count": 113,
   "id": "00d352d6-be7c-4387-8097-1742a60d76ee",
   "metadata": {
    "tags": []
   },
   "outputs": [],
   "source": [
    "class Encoder(nn.Module):\n",
    "    def __init__(self, a_dim):\n",
    "        super(Encoder, self).__init__()\n",
    "        self.conv1 = nn.Conv2d(in_channels=3, out_channels=32, kernel_size=3, stride=2, padding=1)\n",
    "        self.conv2 = nn.Conv2d(in_channels=32, out_channels=32, kernel_size=3, stride=2, padding=1)\n",
    "        self.conv3 = nn.Conv2d(in_channels=32, out_channels=32, kernel_size=3, stride=2, padding=1)\n",
    "        self.fc = nn.Linear(in_features=32*4*4, out_features=a_dim)\n",
    "\n",
    "    def forward(self, x):\n",
    "        x = F.relu(self.conv1(x))\n",
    "        # print(\"conv1:\", x.shape)\n",
    "        x = F.relu(self.conv2(x))\n",
    "        # print(\"conv2:\", x.shape)\n",
    "        x = F.relu(self.conv3(x))\n",
    "        # print(\"conv3:\", x.shape)\n",
    "        x = self.fc(x.view(x.shape[0], -1))\n",
    "        return x"
   ]
  },
  {
   "cell_type": "code",
   "execution_count": 118,
   "id": "80391985-fab8-49fe-8f5c-2fc759cfb710",
   "metadata": {
    "tags": []
   },
   "outputs": [],
   "source": [
    "class Decoder(nn.Module):\n",
    "    def __init__(self, a_dim, upscale_factor=2):\n",
    "        super(Decoder, self).__init__()\n",
    "        self.fc = nn.Linear(in_features=a_dim, out_features=32*4*4)\n",
    "        self.deconv1 = nn.ConvTranspose2d(in_channels=32, out_channels=32, kernel_size=3, stride=2, padding=1, output_padding=1)\n",
    "        self.deconv2 = nn.ConvTranspose2d(in_channels=32, out_channels=32, kernel_size=3, stride=2, padding=1, output_padding=1)\n",
    "        self.deconv3 = nn.ConvTranspose2d(in_channels=32, out_channels=3, kernel_size=3, stride=2, padding=1, output_padding=1)\n",
    "        # self.pixel_shuffle = nn.PixelShuffle(upscale_factor)\n",
    "\n",
    "    def forward(self, x):\n",
    "        x = F.relu(self.fc(x))\n",
    "        x = x.view(-1, 32, 4, 4)\n",
    "        x = F.relu(self.deconv1(x))\n",
    "        # print(\"deconv1:\", x.shape)\n",
    "        x = F.relu(self.deconv2(x))\n",
    "        # print(\"deconv2:\", x.shape)\n",
    "        x = self.deconv3(x)\n",
    "        # x = self.pixel_shuffle(x)\n",
    "        # print(\"pixel_shuffle:\", x.shape)\n",
    "        return F.sigmoid(x), x"
   ]
  },
  {
   "cell_type": "markdown",
   "id": "e7fd8dee-928b-4c30-b28e-2c0e2a9b5013",
   "metadata": {
    "tags": []
   },
   "source": [
    "## Shape\n",
    "\n",
    "* Batch size\n",
    "* Sequence length\n",
    "* Channel: 1\n",
    "* Hight: 32\n",
    "* Width: 32"
   ]
  },
  {
   "cell_type": "code",
   "execution_count": 120,
   "id": "143517a9-4294-43b5-899d-8b9d2d602cf2",
   "metadata": {
    "tags": []
   },
   "outputs": [],
   "source": [
    "class StateSpaceModel(nn.Module):\n",
    "    def __init__(self, a_dim, z_dim, K):\n",
    "        super(LinearGaussianStateSpaceModel, self).__init__()\n",
    "        self.mat_A = nn.Parameter(torch.randn(K, z_dim, z_dim))\n",
    "        self.mat_C = nn.Parameter(torch.randn(K, a_dim, z_dim))\n",
    "        self.mat_Q_L = nn.Parameter(torch.randn(K, z_dim, z_dim))\n",
    "        self.mat_R_L = nn.Parameter(torch.randn(K, a_dim, a_dim))\n",
    "    \n",
    "    @property\n",
    "    def mat_Q(self):\n",
    "        return torch.bmm(self.mat_Q_L, self.mat_Q_L.transpose(-1, -2))\n",
    "    \n",
    "    @property\n",
    "    def mat_R(self):\n",
    "        return torch.bmm(self.mat_R_L, self.mat_R_L.transpose(-1, -2))"
   ]
  },
  {
   "cell_type": "code",
   "execution_count": 117,
   "id": "044ceb4c-e286-4168-99c4-eb1da153969c",
   "metadata": {
    "tags": []
   },
   "outputs": [
    {
     "data": {
      "text/plain": [
       "torch.Size([1, 3, 32, 32])"
      ]
     },
     "execution_count": 117,
     "metadata": {},
     "output_type": "execute_result"
    }
   ],
   "source": [
    "image = torch.zeros(1, 3, 32, 32)\n",
    "encoder = Encoder(a_dim=a_dim)\n",
    "decoder = Decoder(a_dim=a_dim)\n",
    "decoder(encoder(image)).shape"
   ]
  },
  {
   "cell_type": "code",
   "execution_count": null,
   "id": "2f07dc26-639b-43b3-b69c-49d7137c3b05",
   "metadata": {},
   "outputs": [],
   "source": []
  }
 ],
 "metadata": {
  "kernelspec": {
   "display_name": "Python [conda env:pytorch]",
   "language": "python",
   "name": "conda-env-pytorch-py"
  },
  "language_info": {
   "codemirror_mode": {
    "name": "ipython",
    "version": 3
   },
   "file_extension": ".py",
   "mimetype": "text/x-python",
   "name": "python",
   "nbconvert_exporter": "python",
   "pygments_lexer": "ipython3",
   "version": "3.10.13"
  }
 },
 "nbformat": 4,
 "nbformat_minor": 5
}
