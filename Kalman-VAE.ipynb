{
 "cells": [
  {
   "cell_type": "code",
   "execution_count": 2,
   "id": "61aa54ee-4dd2-4b11-8117-254c8dfc0d0a",
   "metadata": {
    "tags": []
   },
   "outputs": [],
   "source": [
    "import os\n",
    "\n",
    "import torch\n",
    "import torch.nn.functional as F\n",
    "import torch.distributions as D\n",
    "from torch import nn\n",
    "from torch.utils.data import DataLoader\n",
    "from torchvision import datasets, transforms"
   ]
  },
  {
   "cell_type": "code",
   "execution_count": 3,
   "id": "888e3854-ed6a-45ee-bb44-d4006065c3d3",
   "metadata": {
    "tags": []
   },
   "outputs": [],
   "source": [
    "a_dim = 10"
   ]
  },
  {
   "cell_type": "code",
   "execution_count": 4,
   "id": "00d352d6-be7c-4387-8097-1742a60d76ee",
   "metadata": {
    "tags": []
   },
   "outputs": [],
   "source": [
    "class Encoder(nn.Module):\n",
    "    def __init__(self, a_dim):\n",
    "        super(Encoder, self).__init__()\n",
    "        self.conv1 = nn.Conv2d(in_channels=3, out_channels=32, kernel_size=3, stride=2, padding=1)\n",
    "        self.conv2 = nn.Conv2d(in_channels=32, out_channels=32, kernel_size=3, stride=2, padding=1)\n",
    "        self.conv3 = nn.Conv2d(in_channels=32, out_channels=32, kernel_size=3, stride=2, padding=1)\n",
    "        self.fc_mean = nn.Linear(in_features=32*4*4, out_features=a_dim)\n",
    "        self.fc_std = nn.Linear(in_features=32*4*4, out_features=a_dim)\n",
    "\n",
    "    def forward(self, x):\n",
    "        x = F.relu(self.conv1(x))\n",
    "        # print(\"conv1:\", x.shape)\n",
    "        x = F.relu(self.conv2(x))\n",
    "        # print(\"conv2:\", x.shape)\n",
    "        x = F.relu(self.conv3(x))\n",
    "        # print(\"conv3:\", x.shape)\n",
    "        x_mean = self.fc_mean(x.view(x.shape[0], -1))\n",
    "        x_std = F.softplus(self.fc_var(x.view(x.shape[0], -1)))\n",
    "        return D.Normal(x_mean, x_std)"
   ]
  },
  {
   "cell_type": "code",
   "execution_count": 5,
   "id": "80391985-fab8-49fe-8f5c-2fc759cfb710",
   "metadata": {
    "tags": []
   },
   "outputs": [],
   "source": [
    "class Decoder(nn.Module):\n",
    "    def __init__(self, a_dim, upscale_factor=2):\n",
    "        super(Decoder, self).__init__()\n",
    "        self.fc = nn.Linear(in_features=a_dim, out_features=32*4*4)\n",
    "        self.deconv1 = nn.ConvTranspose2d(in_channels=32, out_channels=32, kernel_size=3, stride=2, padding=1, output_padding=1)\n",
    "        self.deconv2 = nn.ConvTranspose2d(in_channels=32, out_channels=32, kernel_size=3, stride=2, padding=1, output_padding=1)\n",
    "        self.deconv3 = nn.ConvTranspose2d(in_channels=32, out_channels=3, kernel_size=3, stride=2, padding=1, output_padding=1)\n",
    "        # self.pixel_shuffle = nn.PixelShuffle(upscale_factor)\n",
    "\n",
    "    def forward(self, x):\n",
    "        x = F.relu(self.fc(x))\n",
    "        x = x.view(-1, 32, 4, 4)\n",
    "        x = F.relu(self.deconv1(x))\n",
    "        # print(\"deconv1:\", x.shape)\n",
    "        x = F.relu(self.deconv2(x))\n",
    "        # print(\"deconv2:\", x.shape)\n",
    "        x = self.deconv3(x)\n",
    "        # x = self.pixel_shuffle(x)\n",
    "        # print(\"pixel_shuffle:\", x.shape)\n",
    "        return F.sigmoid(x), x"
   ]
  },
  {
   "cell_type": "code",
   "execution_count": 21,
   "id": "0fbbe990-3ebb-4b7b-8499-2965bc3ef79e",
   "metadata": {},
   "outputs": [],
   "source": [
    "class LSTMModel(nn.Module):\n",
    "    def __init__(self, a_dim, K):\n",
    "        super(LSTMModel, self).__init__()\n",
    "        self.a_dim = a_dim\n",
    "        self.K = K\n",
    "    \n",
    "        self.lstm = nn.LSTM(a_dim, K, batch_first=False)\n",
    "\n",
    "    def forward(self, x):\n",
    "        x, h = self.lstm(x)\n",
    "        x = F.softmax(x, dim=-1)\n",
    "        return x"
   ]
  },
  {
   "cell_type": "markdown",
   "id": "e7fd8dee-928b-4c30-b28e-2c0e2a9b5013",
   "metadata": {
    "tags": []
   },
   "source": [
    "## Shape\n",
    "\n",
    "1. Sequence length\n",
    "1. Batch size\n",
    "1. Channel: 1\n",
    "1. Hight: 32\n",
    "1. Width: 32"
   ]
  },
  {
   "cell_type": "code",
   "execution_count": 14,
   "id": "143517a9-4294-43b5-899d-8b9d2d602cf2",
   "metadata": {
    "tags": []
   },
   "outputs": [],
   "source": [
    "class StateSpaceModel(nn.Module):\n",
    "    def __init__(self, a_dim, z_dim, K):\n",
    "        \n",
    "        super(StateSpaceModel, self).__init__()\n",
    "        \n",
    "        self.a_dim = a_dim\n",
    "        self.z_dim = z_dim\n",
    "        self.K = K\n",
    "        \n",
    "        self.mat_A_K = nn.Parameter(torch.randn(K, z_dim, z_dim))\n",
    "        self.mat_C_K = nn.Parameter(torch.randn(K, a_dim, z_dim))\n",
    "        self.mat_Q_L = nn.Parameter(torch.randn(K, z_dim, z_dim))\n",
    "        self.mat_R_L = nn.Parameter(torch.randn(K, a_dim, a_dim))\n",
    "        \n",
    "        self.weight_model = LSTMModel(a_dim, K)\n",
    "    \n",
    "    @property\n",
    "    def mat_Q(self):\n",
    "        return torch.bmm(self.mat_Q_L, self.mat_Q_L.transpose(-1, -2))\n",
    "    \n",
    "    @property\n",
    "    def mat_R(self):\n",
    "        return torch.bmm(self.mat_R_L, self.mat_R_L.transpose(-1, -2))\n",
    "    \n",
    "    def kalman_filter(self, a):\n",
    "        \n",
    "        sequence_length, batch_size, _ = a.size()\n",
    "        mean_t = torch.zeros(batch_size, self.z_dim, 1)  # Initial state estimate\n",
    "        cov_t = (torch.eye(self.z_dim)*1e9).unsqueeze(0).repeat(batch_size, 1, 1)  # Initial state covariance\n",
    "        cov_t_plus = cov_t\n",
    "\n",
    "        weights = self.weight_model(a)\n",
    "        means = []\n",
    "        covariances = []\n",
    "\n",
    "        mat_As = []\n",
    "        mat_Cs = []\n",
    "\n",
    "        means.append(mean_t)\n",
    "        covariances.append(cov_t)\n",
    "\n",
    "        for t in range(sequence_length):\n",
    "            mat_A = torch.bmm(weights[t], self.mat_A_K)\n",
    "            mat_C = torch.bmm(weights[t], self.mat_C_K)\n",
    "\n",
    "            mat_As.append(mat_A)\n",
    "            mat_Cs.append(mat_C)\n",
    "\n",
    "            # Prediction\n",
    "            mean_t_plus = torch.bmm(mat_A, mean_t)  # Predicted state estimate\n",
    "\n",
    "\n",
    "            # Kalman gain\n",
    "            K_t = torch.bmm(\n",
    "                torch.bmm(cov_t_plus, mat_C.transpose(1, 2)),\n",
    "                torch.inverse(\n",
    "                    torch.bmm(\n",
    "                        torch.bmm(mat_C, cov_t_plus),\n",
    "                        mat_C.transpose(1, 2)\n",
    "                    ) + self.mat_R\n",
    "                )\n",
    "            )\n",
    "\n",
    "            # Update\n",
    "            mean_t = mean_t_plus + torch.bmm(K_t, (a[t].unsqueeze(2) - torch.bmm(mat_C, mean_t_plus)))  # Updated state estimate\n",
    "            cov_t = cov_t_plus - torch.bmm(torch.bmm(K_t, mat_C), cov_t_plus)  # Updated state covariance\n",
    "\n",
    "            means.append(mean_t)\n",
    "            covariances.append(cov_t)\n",
    "\n",
    "            cov_t_plus = torch.bmm(torch.bmm(mat_A, cov_t), mat_A.transpose(0, 1)) + self.mat_Q  # Predicted state covariance\n",
    "\n",
    "        return means, covariances, mat_As, mat_Cs\n",
    "    \n",
    "    def kalman_smooth(self, a, filter_means, filter_covariances):\n",
    "        pass"
   ]
  },
  {
   "cell_type": "code",
   "execution_count": 18,
   "id": "b2af5d36-6516-47f1-ba54-1faf6aecf54f",
   "metadata": {
    "tags": []
   },
   "outputs": [],
   "source": [
    "z_dim = 2\n",
    "batch_size = 3\n",
    "\n",
    "mean_t = torch.zeros(batch_size, z_dim, 1)  # Initial state estimate\n",
    "cov_t = torch.eye(z_dim).unsqueeze(0).repeat(batch_size, 1, 1)  # Initial state covariance"
   ]
  },
  {
   "cell_type": "code",
   "execution_count": 20,
   "id": "d040d17c-d614-4a78-80cb-4536f049748c",
   "metadata": {
    "tags": []
   },
   "outputs": [
    {
     "data": {
      "text/plain": [
       "tensor([[[1., 0.],\n",
       "         [0., 1.]],\n",
       "\n",
       "        [[1., 0.],\n",
       "         [0., 1.]],\n",
       "\n",
       "        [[1., 0.],\n",
       "         [0., 1.]]])"
      ]
     },
     "execution_count": 20,
     "metadata": {},
     "output_type": "execute_result"
    }
   ],
   "source": [
    "cov_t"
   ]
  },
  {
   "cell_type": "code",
   "execution_count": null,
   "id": "d42cc243-ed37-4791-9fbc-3adbf676335a",
   "metadata": {},
   "outputs": [],
   "source": [
    "class KalmanVariationalAutoencoder(nn.Module):\n",
    "    def __init__(self, a_dim, z_dim, K):\n",
    "        super(KalmanVariationalAutoencoder, self).__init__()\n",
    "        self.encoder = Encoder(a_dim)\n",
    "        self.decoder = Decoder(a_dim)\n",
    "        self.state_space_model = StateSpaceModel(a_dim, z_dim, K)\n",
    "    \n",
    "    def objective(self, x):\n",
    "        seq_length = x.shape[0]\n",
    "        batch_size = x.shape[1]\n",
    "        a = self.encoder(x.view(-1, *x.shape[2:])).view(seq_length, batch, *x.shape[2:])\n",
    "        "
   ]
  },
  {
   "cell_type": "code",
   "execution_count": 117,
   "id": "044ceb4c-e286-4168-99c4-eb1da153969c",
   "metadata": {
    "tags": []
   },
   "outputs": [
    {
     "data": {
      "text/plain": [
       "torch.Size([1, 3, 32, 32])"
      ]
     },
     "execution_count": 117,
     "metadata": {},
     "output_type": "execute_result"
    }
   ],
   "source": [
    "image = torch.zeros(1, 3, 32, 32)\n",
    "encoder = Encoder(a_dim=a_dim)\n",
    "decoder = Decoder(a_dim=a_dim)\n",
    "decoder(encoder(image)).shape"
   ]
  },
  {
   "cell_type": "code",
   "execution_count": null,
   "id": "2f07dc26-639b-43b3-b69c-49d7137c3b05",
   "metadata": {},
   "outputs": [],
   "source": []
  }
 ],
 "metadata": {
  "kernelspec": {
   "display_name": "Python [conda env:pytorch]",
   "language": "python",
   "name": "conda-env-pytorch-py"
  },
  "language_info": {
   "codemirror_mode": {
    "name": "ipython",
    "version": 3
   },
   "file_extension": ".py",
   "mimetype": "text/x-python",
   "name": "python",
   "nbconvert_exporter": "python",
   "pygments_lexer": "ipython3",
   "version": "3.10.13"
  }
 },
 "nbformat": 4,
 "nbformat_minor": 5
}
