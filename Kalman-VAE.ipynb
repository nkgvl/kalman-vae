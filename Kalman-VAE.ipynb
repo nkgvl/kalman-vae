{
 "cells": [
  {
   "cell_type": "code",
   "execution_count": 1,
   "id": "61aa54ee-4dd2-4b11-8117-254c8dfc0d0a",
   "metadata": {
    "tags": [],
    "vscode": {
     "languageId": "python"
    }
   },
   "outputs": [],
   "source": [
    "import os\n",
    "\n",
    "import torch\n",
    "import torch.nn.functional as F\n",
    "import torch.distributions as D\n",
    "from torch import nn\n",
    "from torch.utils.data import DataLoader\n",
    "from torchvision import datasets, transforms\n",
    "\n",
    "from vae import Encoder, BernoulliDecoder, GaussianDecoder\n",
    "from ssm import StateSpaceModel"
   ]
  },
  {
   "cell_type": "code",
   "execution_count": 6,
   "id": "d42cc243-ed37-4791-9fbc-3adbf676335a",
   "metadata": {
    "tags": [],
    "vscode": {
     "languageId": "python"
    }
   },
   "outputs": [],
   "source": [
    "class KalmanVariationalAutoencoder(nn.Module):\n",
    "    def __init__(self, image_size, image_channels, a_dim, z_dim, K):\n",
    "        super(KalmanVariationalAutoencoder, self).__init__()\n",
    "        self.encoder = Encoder(image_size, image_channels, a_dim)\n",
    "        self.decoder = GaussianDecoder(a_dim, image_size, image_channels)\n",
    "        self.state_space_model = StateSpaceModel(a_dim, z_dim, K)\n",
    "        self.a_dim = a_dim\n",
    "        self.z_dim = z_dim\n",
    "    \n",
    "    def objective(self, xs):\n",
    "        seq_length = xs.shape[0]\n",
    "        batch_size = xs.shape[1]\n",
    "        \n",
    "        as_dist = self.encoder(xs.view(-1, *xs.shape[2:]))\n",
    "        as_sample = as_dist.rsample().view(seq_length, batch_size, self.a_dim)\n",
    "\n",
    "        # Reconstruction objective\n",
    "        xs_dist = self.decoder(as_sample.view(-1, self.a_dim))\n",
    "        reconstruction_obj = xs_dist.log_prob(xs.view(-1, *xs.shape[2:])).sum(0).mean(0).sum()\n",
    "\n",
    "        # Regularization objective\n",
    "        # -ln q_\\phi(a|x)\n",
    "        regularization_obj = - as_dist.log_prob(as_sample.view(-1, self.a_dim)).sum(0).mean(0).sum()\n",
    "        \n",
    "        # Kalman filter and smoother\n",
    "        filter_means, filter_covariances, filter_next_means, filter_next_covariances, mat_As, mat_Cs = self.state_space_model.kalman_filter(as_sample)\n",
    "        means, covariances = self.state_space_model.kalman_smooth(as_sample, filter_means, filter_covariances, filter_next_means, filter_next_covariances, mat_As, mat_Cs)\n",
    "\n",
    "        # Sample from p_\\gamma (z|a,u)\n",
    "        # Shape of means: (sequence_length, batch_size, z_dim, 1)\n",
    "        # Shape of covariances: (sequence_length, batch_size, z_dim, z_dim)\n",
    "        zs_distrib = D.MultivariateNormal(means.view(-1, self.z_dim), covariances.view(-1, self.z_dim, self.z_dim))\n",
    "        zs_sample = zs_distrib.rsample()\n",
    "        zs_sample = zs_sample.view(seq_length, batch_size, self.z_dim, 1)\n",
    "\n",
    "        # ln p_\\gamma(a|z)\n",
    "        kalman_reconst_distrib = D.Normal(mat_Cs @ zs_sample, self.state_space_model.mat_R)\n",
    "        kalman_reconst_obj = kalman_reconst_distrib.log_prob(as_sample).sum(0).mean(0).sum()\n",
    "\n",
    "        # -ln p_\\gamma(z|a)\n",
    "        gamma_obj = - zs_distrib.log_prob(zs_sample.view(-1, self.z_dim, 1)).sum(0).mean(0).sum()\n",
    "\n",
    "        objective = reconstruction_obj + regularization_obj + kalman_reconst_obj + gamma_obj\n",
    "        \n",
    "        return objective, {\n",
    "            'reconstruction': reconstruction_obj,\n",
    "            'regularization': regularization_obj,\n",
    "            'kalman_reconst': kalman_reconst_obj,\n",
    "            'gamma': gamma_obj\n",
    "        }\n"
   ]
  },
  {
   "cell_type": "code",
   "execution_count": 7,
   "id": "044ceb4c-e286-4168-99c4-eb1da153969c",
   "metadata": {
    "tags": [],
    "vscode": {
     "languageId": "python"
    }
   },
   "outputs": [],
   "source": [
    "image = torch.zeros(8, 16, 1, 32, 32)\n",
    "image_size = image.shape[-2:]"
   ]
  },
  {
   "cell_type": "code",
   "execution_count": 8,
   "id": "2f07dc26-639b-43b3-b69c-49d7137c3b05",
   "metadata": {
    "tags": [],
    "vscode": {
     "languageId": "python"
    }
   },
   "outputs": [],
   "source": [
    "kvae = KalmanVariationalAutoencoder(image_size, 1, 2, 4, 8)"
   ]
  },
  {
   "cell_type": "code",
   "execution_count": 9,
   "id": "b8a07fb6",
   "metadata": {
    "vscode": {
     "languageId": "python"
    }
   },
   "outputs": [
    {
     "ename": "ValueError",
     "evalue": "Expected parameter covariance_matrix (Tensor of shape (128, 4, 4)) of distribution MultivariateNormal(loc: torch.Size([128, 4]), covariance_matrix: torch.Size([128, 4, 4])) to satisfy the constraint PositiveDefinite(), but found invalid values:\ntensor([[[ 5.2508e+06, -4.4078e+05, -2.4251e+05,  3.3224e+06],\n         [-4.4390e+05,  3.6006e+05,  2.4741e+05, -1.3273e+06],\n         [-2.4162e+05,  2.4702e+05, -2.8348e+05, -3.3266e+05],\n         [ 3.3238e+06, -1.3240e+06, -3.3330e+05,  2.9675e+06]],\n\n        [[ 2.5314e+06,  4.7952e+04,  6.2980e+05,  1.1008e+06],\n         [ 5.0944e+04, -1.4036e+06,  3.3371e+05,  5.0498e+05],\n         [ 6.2916e+05,  3.3349e+05,  7.3876e+04,  1.9722e+05],\n         [ 1.0998e+06,  5.0288e+05,  1.9744e+05,  2.2086e+05]],\n\n        [[-1.1091e+06,  7.5966e+05,  6.0016e+04, -1.4265e+06],\n         [ 7.6165e+05, -5.7683e+05,  4.6904e+04,  1.1930e+06],\n         [ 5.9768e+04,  4.6968e+04,  1.3475e+05, -1.4287e+05],\n         [-1.4270e+06,  1.1914e+06, -1.4256e+05, -1.9015e+06]],\n\n        ...,\n\n        [[ 2.7008e+03, -6.9132e+02,  8.1735e+02,  1.1021e+03],\n         [-6.9133e+02,  1.3783e+03, -3.6175e+02, -6.8818e+02],\n         [ 8.1752e+02, -3.6185e+02,  1.8424e+03, -1.4145e+02],\n         [ 1.1021e+03, -6.8814e+02, -1.4161e+02,  1.8276e+03]],\n\n        [[ 2.3984e+03, -5.2052e+02,  6.8487e+02,  9.0012e+02],\n         [-5.2043e+02,  1.2909e+03, -2.7181e+02, -5.6843e+02],\n         [ 6.8438e+02, -2.7148e+02,  1.6041e+03, -1.0321e+02],\n         [ 9.0006e+02, -5.6848e+02, -1.0272e+02,  1.6467e+03]],\n\n        [[ 2.6278e+03, -6.6549e+02,  7.7805e+02,  1.0478e+03],\n         [-6.6546e+02,  1.3642e+03, -3.6843e+02, -6.5722e+02],\n         [ 7.7805e+02, -3.6845e+02,  1.7880e+03, -1.6575e+02],\n         [ 1.0478e+03, -6.5721e+02, -1.6578e+02,  1.8003e+03]]],\n       grad_fn=<ExpandBackward0>)",
     "output_type": "error",
     "traceback": [
      "\u001b[0;31m---------------------------------------------------------------------------\u001b[0m",
      "\u001b[0;31mValueError\u001b[0m                                Traceback (most recent call last)",
      "\u001b[1;32m/Users/naoki/Documents/PhD/Kalman-VAE/Kalman-VAE.ipynb Cell 5\u001b[0m line \u001b[0;36m1\n\u001b[0;32m----> <a href='vscode-notebook-cell:/Users/naoki/Documents/PhD/Kalman-VAE/Kalman-VAE.ipynb#W4sZmlsZQ%3D%3D?line=0'>1</a>\u001b[0m kvae\u001b[39m.\u001b[39;49mobjective(image)\n",
      "\u001b[1;32m/Users/naoki/Documents/PhD/Kalman-VAE/Kalman-VAE.ipynb Cell 5\u001b[0m line \u001b[0;36m3\n\u001b[1;32m     <a href='vscode-notebook-cell:/Users/naoki/Documents/PhD/Kalman-VAE/Kalman-VAE.ipynb#W4sZmlsZQ%3D%3D?line=26'>27</a>\u001b[0m means, covariances \u001b[39m=\u001b[39m \u001b[39mself\u001b[39m\u001b[39m.\u001b[39mstate_space_model\u001b[39m.\u001b[39mkalman_smooth(as_sample, filter_means, filter_covariances, filter_next_means, filter_next_covariances, mat_As, mat_Cs)\n\u001b[1;32m     <a href='vscode-notebook-cell:/Users/naoki/Documents/PhD/Kalman-VAE/Kalman-VAE.ipynb#W4sZmlsZQ%3D%3D?line=28'>29</a>\u001b[0m \u001b[39m# Sample from p_\\gamma (z|a,u)\u001b[39;00m\n\u001b[1;32m     <a href='vscode-notebook-cell:/Users/naoki/Documents/PhD/Kalman-VAE/Kalman-VAE.ipynb#W4sZmlsZQ%3D%3D?line=29'>30</a>\u001b[0m \u001b[39m# Shape of means: (sequence_length, batch_size, z_dim, 1)\u001b[39;00m\n\u001b[1;32m     <a href='vscode-notebook-cell:/Users/naoki/Documents/PhD/Kalman-VAE/Kalman-VAE.ipynb#W4sZmlsZQ%3D%3D?line=30'>31</a>\u001b[0m \u001b[39m# Shape of covariances: (sequence_length, batch_size, z_dim, z_dim)\u001b[39;00m\n\u001b[0;32m---> <a href='vscode-notebook-cell:/Users/naoki/Documents/PhD/Kalman-VAE/Kalman-VAE.ipynb#W4sZmlsZQ%3D%3D?line=31'>32</a>\u001b[0m zs_distrib \u001b[39m=\u001b[39m D\u001b[39m.\u001b[39;49mMultivariateNormal(means\u001b[39m.\u001b[39;49mview(\u001b[39m-\u001b[39;49m\u001b[39m1\u001b[39;49m, \u001b[39mself\u001b[39;49m\u001b[39m.\u001b[39;49mz_dim), covariances\u001b[39m.\u001b[39;49mview(\u001b[39m-\u001b[39;49m\u001b[39m1\u001b[39;49m, \u001b[39mself\u001b[39;49m\u001b[39m.\u001b[39;49mz_dim, \u001b[39mself\u001b[39;49m\u001b[39m.\u001b[39;49mz_dim))\n\u001b[1;32m     <a href='vscode-notebook-cell:/Users/naoki/Documents/PhD/Kalman-VAE/Kalman-VAE.ipynb#W4sZmlsZQ%3D%3D?line=32'>33</a>\u001b[0m zs_sample \u001b[39m=\u001b[39m zs_distrib\u001b[39m.\u001b[39mrsample()\n\u001b[1;32m     <a href='vscode-notebook-cell:/Users/naoki/Documents/PhD/Kalman-VAE/Kalman-VAE.ipynb#W4sZmlsZQ%3D%3D?line=33'>34</a>\u001b[0m zs_sample \u001b[39m=\u001b[39m zs_sample\u001b[39m.\u001b[39mview(seq_length, batch_size, \u001b[39mself\u001b[39m\u001b[39m.\u001b[39mz_dim, \u001b[39m1\u001b[39m)\n",
      "File \u001b[0;32m~/anaconda3/envs/pytorch/lib/python3.10/site-packages/torch/distributions/multivariate_normal.py:150\u001b[0m, in \u001b[0;36mMultivariateNormal.__init__\u001b[0;34m(self, loc, covariance_matrix, precision_matrix, scale_tril, validate_args)\u001b[0m\n\u001b[1;32m    147\u001b[0m \u001b[39mself\u001b[39m\u001b[39m.\u001b[39mloc \u001b[39m=\u001b[39m loc\u001b[39m.\u001b[39mexpand(batch_shape \u001b[39m+\u001b[39m (\u001b[39m-\u001b[39m\u001b[39m1\u001b[39m,))\n\u001b[1;32m    149\u001b[0m event_shape \u001b[39m=\u001b[39m \u001b[39mself\u001b[39m\u001b[39m.\u001b[39mloc\u001b[39m.\u001b[39mshape[\u001b[39m-\u001b[39m\u001b[39m1\u001b[39m:]\n\u001b[0;32m--> 150\u001b[0m \u001b[39msuper\u001b[39;49m()\u001b[39m.\u001b[39;49m\u001b[39m__init__\u001b[39;49m(batch_shape, event_shape, validate_args\u001b[39m=\u001b[39;49mvalidate_args)\n\u001b[1;32m    152\u001b[0m \u001b[39mif\u001b[39;00m scale_tril \u001b[39mis\u001b[39;00m \u001b[39mnot\u001b[39;00m \u001b[39mNone\u001b[39;00m:\n\u001b[1;32m    153\u001b[0m     \u001b[39mself\u001b[39m\u001b[39m.\u001b[39m_unbroadcasted_scale_tril \u001b[39m=\u001b[39m scale_tril\n",
      "File \u001b[0;32m~/anaconda3/envs/pytorch/lib/python3.10/site-packages/torch/distributions/distribution.py:62\u001b[0m, in \u001b[0;36mDistribution.__init__\u001b[0;34m(self, batch_shape, event_shape, validate_args)\u001b[0m\n\u001b[1;32m     60\u001b[0m         valid \u001b[39m=\u001b[39m constraint\u001b[39m.\u001b[39mcheck(value)\n\u001b[1;32m     61\u001b[0m         \u001b[39mif\u001b[39;00m \u001b[39mnot\u001b[39;00m valid\u001b[39m.\u001b[39mall():\n\u001b[0;32m---> 62\u001b[0m             \u001b[39mraise\u001b[39;00m \u001b[39mValueError\u001b[39;00m(\n\u001b[1;32m     63\u001b[0m                 \u001b[39mf\u001b[39m\u001b[39m\"\u001b[39m\u001b[39mExpected parameter \u001b[39m\u001b[39m{\u001b[39;00mparam\u001b[39m}\u001b[39;00m\u001b[39m \u001b[39m\u001b[39m\"\u001b[39m\n\u001b[1;32m     64\u001b[0m                 \u001b[39mf\u001b[39m\u001b[39m\"\u001b[39m\u001b[39m(\u001b[39m\u001b[39m{\u001b[39;00m\u001b[39mtype\u001b[39m(value)\u001b[39m.\u001b[39m\u001b[39m__name__\u001b[39m\u001b[39m}\u001b[39;00m\u001b[39m of shape \u001b[39m\u001b[39m{\u001b[39;00m\u001b[39mtuple\u001b[39m(value\u001b[39m.\u001b[39mshape)\u001b[39m}\u001b[39;00m\u001b[39m) \u001b[39m\u001b[39m\"\u001b[39m\n\u001b[1;32m     65\u001b[0m                 \u001b[39mf\u001b[39m\u001b[39m\"\u001b[39m\u001b[39mof distribution \u001b[39m\u001b[39m{\u001b[39;00m\u001b[39mrepr\u001b[39m(\u001b[39mself\u001b[39m)\u001b[39m}\u001b[39;00m\u001b[39m \u001b[39m\u001b[39m\"\u001b[39m\n\u001b[1;32m     66\u001b[0m                 \u001b[39mf\u001b[39m\u001b[39m\"\u001b[39m\u001b[39mto satisfy the constraint \u001b[39m\u001b[39m{\u001b[39;00m\u001b[39mrepr\u001b[39m(constraint)\u001b[39m}\u001b[39;00m\u001b[39m, \u001b[39m\u001b[39m\"\u001b[39m\n\u001b[1;32m     67\u001b[0m                 \u001b[39mf\u001b[39m\u001b[39m\"\u001b[39m\u001b[39mbut found invalid values:\u001b[39m\u001b[39m\\n\u001b[39;00m\u001b[39m{\u001b[39;00mvalue\u001b[39m}\u001b[39;00m\u001b[39m\"\u001b[39m\n\u001b[1;32m     68\u001b[0m             )\n\u001b[1;32m     69\u001b[0m \u001b[39msuper\u001b[39m()\u001b[39m.\u001b[39m\u001b[39m__init__\u001b[39m()\n",
      "\u001b[0;31mValueError\u001b[0m: Expected parameter covariance_matrix (Tensor of shape (128, 4, 4)) of distribution MultivariateNormal(loc: torch.Size([128, 4]), covariance_matrix: torch.Size([128, 4, 4])) to satisfy the constraint PositiveDefinite(), but found invalid values:\ntensor([[[ 5.2508e+06, -4.4078e+05, -2.4251e+05,  3.3224e+06],\n         [-4.4390e+05,  3.6006e+05,  2.4741e+05, -1.3273e+06],\n         [-2.4162e+05,  2.4702e+05, -2.8348e+05, -3.3266e+05],\n         [ 3.3238e+06, -1.3240e+06, -3.3330e+05,  2.9675e+06]],\n\n        [[ 2.5314e+06,  4.7952e+04,  6.2980e+05,  1.1008e+06],\n         [ 5.0944e+04, -1.4036e+06,  3.3371e+05,  5.0498e+05],\n         [ 6.2916e+05,  3.3349e+05,  7.3876e+04,  1.9722e+05],\n         [ 1.0998e+06,  5.0288e+05,  1.9744e+05,  2.2086e+05]],\n\n        [[-1.1091e+06,  7.5966e+05,  6.0016e+04, -1.4265e+06],\n         [ 7.6165e+05, -5.7683e+05,  4.6904e+04,  1.1930e+06],\n         [ 5.9768e+04,  4.6968e+04,  1.3475e+05, -1.4287e+05],\n         [-1.4270e+06,  1.1914e+06, -1.4256e+05, -1.9015e+06]],\n\n        ...,\n\n        [[ 2.7008e+03, -6.9132e+02,  8.1735e+02,  1.1021e+03],\n         [-6.9133e+02,  1.3783e+03, -3.6175e+02, -6.8818e+02],\n         [ 8.1752e+02, -3.6185e+02,  1.8424e+03, -1.4145e+02],\n         [ 1.1021e+03, -6.8814e+02, -1.4161e+02,  1.8276e+03]],\n\n        [[ 2.3984e+03, -5.2052e+02,  6.8487e+02,  9.0012e+02],\n         [-5.2043e+02,  1.2909e+03, -2.7181e+02, -5.6843e+02],\n         [ 6.8438e+02, -2.7148e+02,  1.6041e+03, -1.0321e+02],\n         [ 9.0006e+02, -5.6848e+02, -1.0272e+02,  1.6467e+03]],\n\n        [[ 2.6278e+03, -6.6549e+02,  7.7805e+02,  1.0478e+03],\n         [-6.6546e+02,  1.3642e+03, -3.6843e+02, -6.5722e+02],\n         [ 7.7805e+02, -3.6845e+02,  1.7880e+03, -1.6575e+02],\n         [ 1.0478e+03, -6.5721e+02, -1.6578e+02,  1.8003e+03]]],\n       grad_fn=<ExpandBackward0>)"
     ]
    }
   ],
   "source": [
    "kvae.objective(image)"
   ]
  },
  {
   "cell_type": "code",
   "execution_count": null,
   "id": "206f3347",
   "metadata": {
    "vscode": {
     "languageId": "python"
    }
   },
   "outputs": [],
   "source": []
  }
 ],
 "metadata": {
  "kernelspec": {
   "display_name": "Python [conda env:pytorch]",
   "language": "python",
   "name": "conda-env-pytorch-py"
  },
  "language_info": {
   "name": "",
   "version": ""
  }
 },
 "nbformat": 4,
 "nbformat_minor": 5
}
