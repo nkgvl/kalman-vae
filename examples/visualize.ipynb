{
 "cells": [
  {
   "cell_type": "code",
   "execution_count": null,
   "metadata": {},
   "outputs": [],
   "source": [
    "import os\n",
    "import re\n",
    "import subprocess\n",
    "\n",
    "import matplotlib.pyplot as plt\n",
    "import pandas as pd\n",
    "from IPython.display import Video"
   ]
  },
  {
   "cell_type": "code",
   "execution_count": null,
   "metadata": {},
   "outputs": [],
   "source": [
    "checkpoint_dir = \"_checkpoints/experiment_20231117_171147/\"\n",
    "epoch = 70"
   ]
  },
  {
   "cell_type": "code",
   "execution_count": null,
   "metadata": {},
   "outputs": [],
   "source": [
    "if not os.path.exists(os.path.join(checkpoint_dir, \"tables\")):\n",
    "    command = f\"run_evaluation.sh --checkpoint_dir {checkpoint_dir} --epoch {epoch}\"\n",
    "    subprocess.run(command, shell=True)"
   ]
  },
  {
   "cell_type": "code",
   "execution_count": null,
   "metadata": {},
   "outputs": [],
   "source": [
    "# load the data from csv files\n",
    "df1 = pd.read_csv(\n",
    "    os.path.join(checkpoint_dir, \"tables\", f\"epoch_{epoch}\", \"continuous_masking.csv\")\n",
    ")\n",
    "df2 = pd.read_csv(\n",
    "    os.path.join(checkpoint_dir, \"tables\", f\"epoch_{epoch}\", \"random_masking.csv\")\n",
    ")\n",
    "\n",
    "# create subplots with reduced height\n",
    "fig, axs = plt.subplots(1, 2, figsize=(10, 4))\n",
    "\n",
    "# plot the first dataframe\n",
    "axs[0].plot(\n",
    "    df1[\"mask_lengths\"], df1[\"filtering_incorrect_pixels\"], \".-\", label=\"Filtering\"\n",
    ")\n",
    "axs[0].plot(\n",
    "    df1[\"mask_lengths\"], df1[\"smoothing_incorrect_pixels\"], \".-\", label=\"Smoothing\"\n",
    ")\n",
    "axs[0].set_xlabel(\"Mask Length\")\n",
    "axs[0].set_ylabel(\"Fraction of Incorrect Pixels\")\n",
    "axs[0].set_title(\"Continuous Masking\")\n",
    "axs[0].legend()\n",
    "axs[0].set_xlim(0, 50)  # set x-axis limit\n",
    "axs[0].grid(True)  # add grid\n",
    "\n",
    "# plot the second dataframe\n",
    "axs[1].plot(\n",
    "    df2[\"dropout_probabilities\"],\n",
    "    df2[\"filtering_incorrect_pixels\"],\n",
    "    \".-\",\n",
    "    label=\"Filtering\",\n",
    ")\n",
    "axs[1].plot(\n",
    "    df2[\"dropout_probabilities\"],\n",
    "    df2[\"smoothing_incorrect_pixels\"],\n",
    "    \".-\",\n",
    "    label=\"Smoothing\",\n",
    ")\n",
    "axs[1].set_xlabel(\"Dropout Probability\")\n",
    "axs[1].set_ylabel(\"Fraction of Incorrect Pixels\")\n",
    "axs[1].set_title(\"Random Masking\")\n",
    "axs[1].legend()\n",
    "axs[1].set_xlim(0, 1)  # set x-axis limit\n",
    "axs[1].grid(True)  # add grid\n",
    "\n",
    "# display the plot\n",
    "plt.show()"
   ]
  },
  {
   "cell_type": "code",
   "execution_count": null,
   "metadata": {},
   "outputs": [],
   "source": [
    "def get_maximum_index(checkpoint_dir, epoch):\n",
    "    directory = os.path.join(checkpoint_dir, \"videos\", f\"epoch_{epoch}\")\n",
    "    file_names = os.listdir(directory)\n",
    "    pattern = r\"idx_(\\d+)_mask_length_\\d+\\.mp4\"\n",
    "    indices = []\n",
    "    for file_name in file_names:\n",
    "        match = re.search(pattern, file_name)\n",
    "        if match:\n",
    "            index = int(match.group(1))\n",
    "            indices.append(index)\n",
    "\n",
    "    max_index = max(indices)\n",
    "    return max_index"
   ]
  },
  {
   "cell_type": "code",
   "execution_count": null,
   "metadata": {},
   "outputs": [],
   "source": [
    "video_path = os.path.join(\n",
    "    checkpoint_dir, \"videos\", f\"epoch_{epoch}\", \"idx_2_mask_length_40.mp4\"\n",
    ")\n",
    "for idx in range(get_maximum_index(checkpoint_dir, epoch)):\n",
    "    for mask_length in (10, 20, 30, 40):\n",
    "        print(f\"Data index: {idx}\")\n",
    "        print(f\"Mask length: {mask_length}\")\n",
    "        video_path = os.path.join(\n",
    "            checkpoint_dir,\n",
    "            \"videos\",\n",
    "            f\"epoch_{epoch}\",\n",
    "            f\"idx_{idx}_mask_length_{mask_length}.mp4\",\n",
    "        )\n",
    "        display(Video(video_path))"
   ]
  }
 ],
 "metadata": {
  "kernelspec": {
   "display_name": "Python [conda env:kalman-vae]",
   "language": "python",
   "name": "conda-env-kalman-vae-py"
  },
  "language_info": {
   "codemirror_mode": {
    "name": "ipython",
    "version": 3
   },
   "file_extension": ".py",
   "mimetype": "text/x-python",
   "name": "python",
   "nbconvert_exporter": "python",
   "pygments_lexer": "ipython3",
   "version": "3.11.6"
  }
 },
 "nbformat": 4,
 "nbformat_minor": 4
}
